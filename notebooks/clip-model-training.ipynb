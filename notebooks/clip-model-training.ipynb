{
 "cells": [
  {
   "cell_type": "code",
   "execution_count": 1,
   "id": "65a539ea",
   "metadata": {},
   "outputs": [
    {
     "name": "stdout",
     "output_type": "stream",
     "text": [
      "Collecting open-clip-torch\n",
      "  Downloading open_clip_torch-2.32.0-py3-none-any.whl.metadata (31 kB)\n",
      "Requirement already satisfied: torch>=1.9.0 in /usr/local/lib/python3.11/dist-packages (from open-clip-torch) (2.5.1+cu124)\n",
      "Requirement already satisfied: torchvision in /usr/local/lib/python3.11/dist-packages (from open-clip-torch) (0.20.1+cu124)\n",
      "Requirement already satisfied: regex in /usr/local/lib/python3.11/dist-packages (from open-clip-torch) (2024.11.6)\n",
      "Collecting ftfy (from open-clip-torch)\n",
      "  Downloading ftfy-6.3.1-py3-none-any.whl.metadata (7.3 kB)\n",
      "Requirement already satisfied: tqdm in /usr/local/lib/python3.11/dist-packages (from open-clip-torch) (4.67.1)\n",
      "Requirement already satisfied: huggingface-hub in /usr/local/lib/python3.11/dist-packages (from open-clip-torch) (0.30.2)\n",
      "Requirement already satisfied: safetensors in /usr/local/lib/python3.11/dist-packages (from open-clip-torch) (0.5.2)\n",
      "Requirement already satisfied: timm in /usr/local/lib/python3.11/dist-packages (from open-clip-torch) (1.0.14)\n",
      "Requirement already satisfied: filelock in /usr/local/lib/python3.11/dist-packages (from torch>=1.9.0->open-clip-torch) (3.18.0)\n",
      "Requirement already satisfied: typing-extensions>=4.8.0 in /usr/local/lib/python3.11/dist-packages (from torch>=1.9.0->open-clip-torch) (4.13.1)\n",
      "Requirement already satisfied: networkx in /usr/local/lib/python3.11/dist-packages (from torch>=1.9.0->open-clip-torch) (3.4.2)\n",
      "Requirement already satisfied: jinja2 in /usr/local/lib/python3.11/dist-packages (from torch>=1.9.0->open-clip-torch) (3.1.6)\n",
      "Requirement already satisfied: fsspec in /usr/local/lib/python3.11/dist-packages (from torch>=1.9.0->open-clip-torch) (2025.3.2)\n",
      "Requirement already satisfied: nvidia-cuda-nvrtc-cu12==12.4.127 in /usr/local/lib/python3.11/dist-packages (from torch>=1.9.0->open-clip-torch) (12.4.127)\n",
      "Requirement already satisfied: nvidia-cuda-runtime-cu12==12.4.127 in /usr/local/lib/python3.11/dist-packages (from torch>=1.9.0->open-clip-torch) (12.4.127)\n",
      "Requirement already satisfied: nvidia-cuda-cupti-cu12==12.4.127 in /usr/local/lib/python3.11/dist-packages (from torch>=1.9.0->open-clip-torch) (12.4.127)\n",
      "Collecting nvidia-cudnn-cu12==9.1.0.70 (from torch>=1.9.0->open-clip-torch)\n",
      "  Downloading nvidia_cudnn_cu12-9.1.0.70-py3-none-manylinux2014_x86_64.whl.metadata (1.6 kB)\n",
      "Collecting nvidia-cublas-cu12==12.4.5.8 (from torch>=1.9.0->open-clip-torch)\n",
      "  Downloading nvidia_cublas_cu12-12.4.5.8-py3-none-manylinux2014_x86_64.whl.metadata (1.5 kB)\n",
      "Collecting nvidia-cufft-cu12==11.2.1.3 (from torch>=1.9.0->open-clip-torch)\n",
      "  Downloading nvidia_cufft_cu12-11.2.1.3-py3-none-manylinux2014_x86_64.whl.metadata (1.5 kB)\n",
      "Collecting nvidia-curand-cu12==10.3.5.147 (from torch>=1.9.0->open-clip-torch)\n",
      "  Downloading nvidia_curand_cu12-10.3.5.147-py3-none-manylinux2014_x86_64.whl.metadata (1.5 kB)\n",
      "Collecting nvidia-cusolver-cu12==11.6.1.9 (from torch>=1.9.0->open-clip-torch)\n",
      "  Downloading nvidia_cusolver_cu12-11.6.1.9-py3-none-manylinux2014_x86_64.whl.metadata (1.6 kB)\n",
      "Collecting nvidia-cusparse-cu12==12.3.1.170 (from torch>=1.9.0->open-clip-torch)\n",
      "  Downloading nvidia_cusparse_cu12-12.3.1.170-py3-none-manylinux2014_x86_64.whl.metadata (1.6 kB)\n",
      "Requirement already satisfied: nvidia-nccl-cu12==2.21.5 in /usr/local/lib/python3.11/dist-packages (from torch>=1.9.0->open-clip-torch) (2.21.5)\n",
      "Requirement already satisfied: nvidia-nvtx-cu12==12.4.127 in /usr/local/lib/python3.11/dist-packages (from torch>=1.9.0->open-clip-torch) (12.4.127)\n",
      "Collecting nvidia-nvjitlink-cu12==12.4.127 (from torch>=1.9.0->open-clip-torch)\n",
      "  Downloading nvidia_nvjitlink_cu12-12.4.127-py3-none-manylinux2014_x86_64.whl.metadata (1.5 kB)\n",
      "Requirement already satisfied: triton==3.1.0 in /usr/local/lib/python3.11/dist-packages (from torch>=1.9.0->open-clip-torch) (3.1.0)\n",
      "Requirement already satisfied: sympy==1.13.1 in /usr/local/lib/python3.11/dist-packages (from torch>=1.9.0->open-clip-torch) (1.13.1)\n",
      "Requirement already satisfied: mpmath<1.4,>=1.1.0 in /usr/local/lib/python3.11/dist-packages (from sympy==1.13.1->torch>=1.9.0->open-clip-torch) (1.3.0)\n",
      "Requirement already satisfied: wcwidth in /usr/local/lib/python3.11/dist-packages (from ftfy->open-clip-torch) (0.2.13)\n",
      "Requirement already satisfied: packaging>=20.9 in /usr/local/lib/python3.11/dist-packages (from huggingface-hub->open-clip-torch) (24.2)\n",
      "Requirement already satisfied: pyyaml>=5.1 in /usr/local/lib/python3.11/dist-packages (from huggingface-hub->open-clip-torch) (6.0.2)\n",
      "Requirement already satisfied: requests in /usr/local/lib/python3.11/dist-packages (from huggingface-hub->open-clip-torch) (2.32.3)\n",
      "Requirement already satisfied: numpy in /usr/local/lib/python3.11/dist-packages (from torchvision->open-clip-torch) (1.26.4)\n",
      "Requirement already satisfied: pillow!=8.3.*,>=5.3.0 in /usr/local/lib/python3.11/dist-packages (from torchvision->open-clip-torch) (11.1.0)\n",
      "Requirement already satisfied: MarkupSafe>=2.0 in /usr/local/lib/python3.11/dist-packages (from jinja2->torch>=1.9.0->open-clip-torch) (3.0.2)\n",
      "Requirement already satisfied: mkl_fft in /usr/local/lib/python3.11/dist-packages (from numpy->torchvision->open-clip-torch) (1.3.8)\n",
      "Requirement already satisfied: mkl_random in /usr/local/lib/python3.11/dist-packages (from numpy->torchvision->open-clip-torch) (1.2.4)\n",
      "Requirement already satisfied: mkl_umath in /usr/local/lib/python3.11/dist-packages (from numpy->torchvision->open-clip-torch) (0.1.1)\n",
      "Requirement already satisfied: mkl in /usr/local/lib/python3.11/dist-packages (from numpy->torchvision->open-clip-torch) (2025.1.0)\n",
      "Requirement already satisfied: tbb4py in /usr/local/lib/python3.11/dist-packages (from numpy->torchvision->open-clip-torch) (2022.1.0)\n",
      "Requirement already satisfied: mkl-service in /usr/local/lib/python3.11/dist-packages (from numpy->torchvision->open-clip-torch) (2.4.1)\n",
      "Requirement already satisfied: charset-normalizer<4,>=2 in /usr/local/lib/python3.11/dist-packages (from requests->huggingface-hub->open-clip-torch) (3.4.1)\n",
      "Requirement already satisfied: idna<4,>=2.5 in /usr/local/lib/python3.11/dist-packages (from requests->huggingface-hub->open-clip-torch) (3.10)\n",
      "Requirement already satisfied: urllib3<3,>=1.21.1 in /usr/local/lib/python3.11/dist-packages (from requests->huggingface-hub->open-clip-torch) (2.3.0)\n",
      "Requirement already satisfied: certifi>=2017.4.17 in /usr/local/lib/python3.11/dist-packages (from requests->huggingface-hub->open-clip-torch) (2025.1.31)\n",
      "Requirement already satisfied: intel-openmp<2026,>=2024 in /usr/local/lib/python3.11/dist-packages (from mkl->numpy->torchvision->open-clip-torch) (2024.2.0)\n",
      "Requirement already satisfied: tbb==2022.* in /usr/local/lib/python3.11/dist-packages (from mkl->numpy->torchvision->open-clip-torch) (2022.1.0)\n",
      "Requirement already satisfied: tcmlib==1.* in /usr/local/lib/python3.11/dist-packages (from tbb==2022.*->mkl->numpy->torchvision->open-clip-torch) (1.2.0)\n",
      "Requirement already satisfied: intel-cmplr-lib-rt in /usr/local/lib/python3.11/dist-packages (from mkl_umath->numpy->torchvision->open-clip-torch) (2024.2.0)\n",
      "Requirement already satisfied: intel-cmplr-lib-ur==2024.2.0 in /usr/local/lib/python3.11/dist-packages (from intel-openmp<2026,>=2024->mkl->numpy->torchvision->open-clip-torch) (2024.2.0)\n",
      "Downloading open_clip_torch-2.32.0-py3-none-any.whl (1.5 MB)\n",
      "\u001b[2K   \u001b[90m━━━━━━━━━━━━━━━━━━━━━━━━━━━━━━━━━━━━━━━━\u001b[0m \u001b[32m1.5/1.5 MB\u001b[0m \u001b[31m29.6 MB/s\u001b[0m eta \u001b[36m0:00:00\u001b[0m00:01\u001b[0m\n",
      "\u001b[?25hDownloading nvidia_cublas_cu12-12.4.5.8-py3-none-manylinux2014_x86_64.whl (363.4 MB)\n",
      "\u001b[2K   \u001b[90m━━━━━━━━━━━━━━━━━━━━━━━━━━━━━━━━━━━━━━━━\u001b[0m \u001b[32m363.4/363.4 MB\u001b[0m \u001b[31m4.6 MB/s\u001b[0m eta \u001b[36m0:00:00\u001b[0m0:00:01\u001b[0m00:01\u001b[0m\n",
      "\u001b[?25hDownloading nvidia_cudnn_cu12-9.1.0.70-py3-none-manylinux2014_x86_64.whl (664.8 MB)\n",
      "\u001b[2K   \u001b[90m━━━━━━━━━━━━━━━━━━━━━━━━━━━━━━━━━━━━━━━━\u001b[0m \u001b[32m664.8/664.8 MB\u001b[0m \u001b[31m2.4 MB/s\u001b[0m eta \u001b[36m0:00:00\u001b[0m0:00:01\u001b[0m00:01\u001b[0m\n",
      "\u001b[?25hDownloading nvidia_cufft_cu12-11.2.1.3-py3-none-manylinux2014_x86_64.whl (211.5 MB)\n",
      "\u001b[2K   \u001b[90m━━━━━━━━━━━━━━━━━━━━━━━━━━━━━━━━━━━━━━━━\u001b[0m \u001b[32m211.5/211.5 MB\u001b[0m \u001b[31m2.1 MB/s\u001b[0m eta \u001b[36m0:00:00\u001b[0m0:00:01\u001b[0m00:01\u001b[0m\n",
      "\u001b[?25hDownloading nvidia_curand_cu12-10.3.5.147-py3-none-manylinux2014_x86_64.whl (56.3 MB)\n",
      "\u001b[2K   \u001b[90m━━━━━━━━━━━━━━━━━━━━━━━━━━━━━━━━━━━━━━━━\u001b[0m \u001b[32m56.3/56.3 MB\u001b[0m \u001b[31m28.6 MB/s\u001b[0m eta \u001b[36m0:00:00\u001b[0m:00:01\u001b[0m00:01\u001b[0m\n",
      "\u001b[?25hDownloading nvidia_cusolver_cu12-11.6.1.9-py3-none-manylinux2014_x86_64.whl (127.9 MB)\n",
      "\u001b[2K   \u001b[90m━━━━━━━━━━━━━━━━━━━━━━━━━━━━━━━━━━━━━━━━\u001b[0m \u001b[32m127.9/127.9 MB\u001b[0m \u001b[31m13.2 MB/s\u001b[0m eta \u001b[36m0:00:00\u001b[0m:00:01\u001b[0m00:01\u001b[0m\n",
      "\u001b[?25hDownloading nvidia_cusparse_cu12-12.3.1.170-py3-none-manylinux2014_x86_64.whl (207.5 MB)\n",
      "\u001b[2K   \u001b[90m━━━━━━━━━━━━━━━━━━━━━━━━━━━━━━━━━━━━━━━━\u001b[0m \u001b[32m207.5/207.5 MB\u001b[0m \u001b[31m8.2 MB/s\u001b[0m eta \u001b[36m0:00:00\u001b[0m0:00:01\u001b[0m00:01\u001b[0m\n",
      "\u001b[?25hDownloading nvidia_nvjitlink_cu12-12.4.127-py3-none-manylinux2014_x86_64.whl (21.1 MB)\n",
      "\u001b[2K   \u001b[90m━━━━━━━━━━━━━━━━━━━━━━━━━━━━━━━━━━━━━━━━\u001b[0m \u001b[32m21.1/21.1 MB\u001b[0m \u001b[31m81.2 MB/s\u001b[0m eta \u001b[36m0:00:00\u001b[0m:00:01\u001b[0m00:01\u001b[0m\n",
      "\u001b[?25hDownloading ftfy-6.3.1-py3-none-any.whl (44 kB)\n",
      "\u001b[2K   \u001b[90m━━━━━━━━━━━━━━━━━━━━━━━━━━━━━━━━━━━━━━━━\u001b[0m \u001b[32m44.8/44.8 kB\u001b[0m \u001b[31m2.5 MB/s\u001b[0m eta \u001b[36m0:00:00\u001b[0m\n",
      "\u001b[?25hInstalling collected packages: nvidia-nvjitlink-cu12, nvidia-curand-cu12, nvidia-cufft-cu12, nvidia-cublas-cu12, ftfy, nvidia-cusparse-cu12, nvidia-cudnn-cu12, nvidia-cusolver-cu12, open-clip-torch\n",
      "  Attempting uninstall: nvidia-nvjitlink-cu12\n",
      "    Found existing installation: nvidia-nvjitlink-cu12 12.8.93\n",
      "    Uninstalling nvidia-nvjitlink-cu12-12.8.93:\n",
      "      Successfully uninstalled nvidia-nvjitlink-cu12-12.8.93\n",
      "  Attempting uninstall: nvidia-curand-cu12\n",
      "    Found existing installation: nvidia-curand-cu12 10.3.9.90\n",
      "    Uninstalling nvidia-curand-cu12-10.3.9.90:\n",
      "      Successfully uninstalled nvidia-curand-cu12-10.3.9.90\n",
      "  Attempting uninstall: nvidia-cufft-cu12\n",
      "    Found existing installation: nvidia-cufft-cu12 11.3.3.83\n",
      "    Uninstalling nvidia-cufft-cu12-11.3.3.83:\n",
      "      Successfully uninstalled nvidia-cufft-cu12-11.3.3.83\n",
      "  Attempting uninstall: nvidia-cublas-cu12\n",
      "    Found existing installation: nvidia-cublas-cu12 12.8.4.1\n",
      "    Uninstalling nvidia-cublas-cu12-12.8.4.1:\n",
      "      Successfully uninstalled nvidia-cublas-cu12-12.8.4.1\n",
      "  Attempting uninstall: nvidia-cusparse-cu12\n",
      "    Found existing installation: nvidia-cusparse-cu12 12.5.8.93\n",
      "    Uninstalling nvidia-cusparse-cu12-12.5.8.93:\n",
      "      Successfully uninstalled nvidia-cusparse-cu12-12.5.8.93\n",
      "  Attempting uninstall: nvidia-cudnn-cu12\n",
      "    Found existing installation: nvidia-cudnn-cu12 9.3.0.75\n",
      "    Uninstalling nvidia-cudnn-cu12-9.3.0.75:\n",
      "      Successfully uninstalled nvidia-cudnn-cu12-9.3.0.75\n",
      "  Attempting uninstall: nvidia-cusolver-cu12\n",
      "    Found existing installation: nvidia-cusolver-cu12 11.7.3.90\n",
      "    Uninstalling nvidia-cusolver-cu12-11.7.3.90:\n",
      "      Successfully uninstalled nvidia-cusolver-cu12-11.7.3.90\n",
      "\u001b[31mERROR: pip's dependency resolver does not currently take into account all the packages that are installed. This behaviour is the source of the following dependency conflicts.\n",
      "pylibcugraph-cu12 24.12.0 requires pylibraft-cu12==24.12.*, but you have pylibraft-cu12 25.2.0 which is incompatible.\n",
      "pylibcugraph-cu12 24.12.0 requires rmm-cu12==24.12.*, but you have rmm-cu12 25.2.0 which is incompatible.\u001b[0m\u001b[31m\n",
      "\u001b[0mSuccessfully installed ftfy-6.3.1 nvidia-cublas-cu12-12.4.5.8 nvidia-cudnn-cu12-9.1.0.70 nvidia-cufft-cu12-11.2.1.3 nvidia-curand-cu12-10.3.5.147 nvidia-cusolver-cu12-11.6.1.9 nvidia-cusparse-cu12-12.3.1.170 nvidia-nvjitlink-cu12-12.4.127 open-clip-torch-2.32.0\n",
      "Note: you may need to restart the kernel to use updated packages.\n"
     ]
    }
   ],
   "source": [
    "%pip install open-clip-torch"
   ]
  },
  {
   "cell_type": "code",
   "execution_count": null,
   "id": "fe4a0f40",
   "metadata": {},
   "outputs": [],
   "source": [
    "import torch\n",
    "from PIL import Image\n",
    "from transformers import PreTrainedModel, PretrainedConfig\n",
    "from datasets import load_dataset, concatenate_datasets\n",
    "import torch\n",
    "import torch.nn as nn\n",
    "from torchvision import transforms\n",
    "from transformers import CLIPProcessor, CLIPModel, AutoTokenizer, AutoModelForCausalLM\n",
    "\n",
    "import matplotlib.pyplot as plt"
   ]
  },
  {
   "cell_type": "code",
   "execution_count": 4,
   "id": "c79e5d4c",
   "metadata": {},
   "outputs": [
    {
     "data": {
      "application/vnd.jupyter.widget-view+json": {
       "model_id": "33b187578b3c4a48b3ab02bbd01034e6",
       "version_major": 2,
       "version_minor": 0
      },
      "text/plain": [
       "README.md:   0%|          | 0.00/10.1k [00:00<?, ?B/s]"
      ]
     },
     "metadata": {},
     "output_type": "display_data"
    },
    {
     "data": {
      "application/vnd.jupyter.widget-view+json": {
       "model_id": "192d26304ae8451e9a7227778950f0a1",
       "version_major": 2,
       "version_minor": 0
      },
      "text/plain": [
       "batch_0-00000-of-00001.parquet:   0%|          | 0.00/18.7M [00:00<?, ?B/s]"
      ]
     },
     "metadata": {},
     "output_type": "display_data"
    },
    {
     "data": {
      "application/vnd.jupyter.widget-view+json": {
       "model_id": "ed58bc9dc15643c1b064aaae1c697fba",
       "version_major": 2,
       "version_minor": 0
      },
      "text/plain": [
       "batch_41-00000-of-00001.parquet:   0%|          | 0.00/22.4M [00:00<?, ?B/s]"
      ]
     },
     "metadata": {},
     "output_type": "display_data"
    },
    {
     "data": {
      "application/vnd.jupyter.widget-view+json": {
       "model_id": "e8eff555a907454890af17884292c844",
       "version_major": 2,
       "version_minor": 0
      },
      "text/plain": [
       "batch_1-00000-of-00001.parquet:   0%|          | 0.00/17.9M [00:00<?, ?B/s]"
      ]
     },
     "metadata": {},
     "output_type": "display_data"
    },
    {
     "data": {
      "application/vnd.jupyter.widget-view+json": {
       "model_id": "b39c7352b116433290a9b30cbe51f3e9",
       "version_major": 2,
       "version_minor": 0
      },
      "text/plain": [
       "batch_42-00000-of-00001.parquet:   0%|          | 0.00/16.9M [00:00<?, ?B/s]"
      ]
     },
     "metadata": {},
     "output_type": "display_data"
    },
    {
     "data": {
      "application/vnd.jupyter.widget-view+json": {
       "model_id": "27c3d9c688bf456887c6e6851ceb81d1",
       "version_major": 2,
       "version_minor": 0
      },
      "text/plain": [
       "batch_2-00000-of-00001.parquet:   0%|          | 0.00/12.9M [00:00<?, ?B/s]"
      ]
     },
     "metadata": {},
     "output_type": "display_data"
    },
    {
     "data": {
      "application/vnd.jupyter.widget-view+json": {
       "model_id": "669457f9f5344f3ab4c01123bab574dc",
       "version_major": 2,
       "version_minor": 0
      },
      "text/plain": [
       "batch_43-00000-of-00001.parquet:   0%|          | 0.00/12.1M [00:00<?, ?B/s]"
      ]
     },
     "metadata": {},
     "output_type": "display_data"
    },
    {
     "data": {
      "application/vnd.jupyter.widget-view+json": {
       "model_id": "24940be981724e699b7ee0f9fc3c39de",
       "version_major": 2,
       "version_minor": 0
      },
      "text/plain": [
       "batch_3-00000-of-00001.parquet:   0%|          | 0.00/16.1M [00:00<?, ?B/s]"
      ]
     },
     "metadata": {},
     "output_type": "display_data"
    },
    {
     "data": {
      "application/vnd.jupyter.widget-view+json": {
       "model_id": "dc7801a8714b470f841ae80cfbc05427",
       "version_major": 2,
       "version_minor": 0
      },
      "text/plain": [
       "batch_44-00000-of-00001.parquet:   0%|          | 0.00/12.2M [00:00<?, ?B/s]"
      ]
     },
     "metadata": {},
     "output_type": "display_data"
    },
    {
     "data": {
      "application/vnd.jupyter.widget-view+json": {
       "model_id": "85280b61d5a44f538f810f15d71bbc83",
       "version_major": 2,
       "version_minor": 0
      },
      "text/plain": [
       "batch_4-00000-of-00001.parquet:   0%|          | 0.00/16.0M [00:00<?, ?B/s]"
      ]
     },
     "metadata": {},
     "output_type": "display_data"
    },
    {
     "data": {
      "application/vnd.jupyter.widget-view+json": {
       "model_id": "f14375e42f2447f9b8da11747f67eff9",
       "version_major": 2,
       "version_minor": 0
      },
      "text/plain": [
       "batch_45-00000-of-00001.parquet:   0%|          | 0.00/11.1M [00:00<?, ?B/s]"
      ]
     },
     "metadata": {},
     "output_type": "display_data"
    },
    {
     "data": {
      "application/vnd.jupyter.widget-view+json": {
       "model_id": "57fb3b5f8d954bc78180fbef68dcad19",
       "version_major": 2,
       "version_minor": 0
      },
      "text/plain": [
       "batch_5-00000-of-00001.parquet:   0%|          | 0.00/17.8M [00:00<?, ?B/s]"
      ]
     },
     "metadata": {},
     "output_type": "display_data"
    },
    {
     "data": {
      "application/vnd.jupyter.widget-view+json": {
       "model_id": "2389d35c64ee4bbfaaecb0b1886071c1",
       "version_major": 2,
       "version_minor": 0
      },
      "text/plain": [
       "batch_46-00000-of-00001.parquet:   0%|          | 0.00/12.6M [00:00<?, ?B/s]"
      ]
     },
     "metadata": {},
     "output_type": "display_data"
    },
    {
     "data": {
      "application/vnd.jupyter.widget-view+json": {
       "model_id": "24a2769c801c447d8a4cb9d6b8b94617",
       "version_major": 2,
       "version_minor": 0
      },
      "text/plain": [
       "batch_6-00000-of-00001.parquet:   0%|          | 0.00/20.7M [00:00<?, ?B/s]"
      ]
     },
     "metadata": {},
     "output_type": "display_data"
    },
    {
     "data": {
      "application/vnd.jupyter.widget-view+json": {
       "model_id": "543e9e8cf22346c09ee20331d41a2c65",
       "version_major": 2,
       "version_minor": 0
      },
      "text/plain": [
       "batch_47-00000-of-00001.parquet:   0%|          | 0.00/13.9M [00:00<?, ?B/s]"
      ]
     },
     "metadata": {},
     "output_type": "display_data"
    },
    {
     "data": {
      "application/vnd.jupyter.widget-view+json": {
       "model_id": "07133b7f46da48da8f1bfd9c52dc7aeb",
       "version_major": 2,
       "version_minor": 0
      },
      "text/plain": [
       "batch_7-00000-of-00001.parquet:   0%|          | 0.00/22.9M [00:00<?, ?B/s]"
      ]
     },
     "metadata": {},
     "output_type": "display_data"
    },
    {
     "data": {
      "application/vnd.jupyter.widget-view+json": {
       "model_id": "8813362bbdc044449111a2a98e796d1f",
       "version_major": 2,
       "version_minor": 0
      },
      "text/plain": [
       "batch_48-00000-of-00001.parquet:   0%|          | 0.00/14.3M [00:00<?, ?B/s]"
      ]
     },
     "metadata": {},
     "output_type": "display_data"
    },
    {
     "data": {
      "application/vnd.jupyter.widget-view+json": {
       "model_id": "c1e17b63b0904d1396e85f2ff4b10bc3",
       "version_major": 2,
       "version_minor": 0
      },
      "text/plain": [
       "batch_8-00000-of-00001.parquet:   0%|          | 0.00/15.2M [00:00<?, ?B/s]"
      ]
     },
     "metadata": {},
     "output_type": "display_data"
    },
    {
     "data": {
      "application/vnd.jupyter.widget-view+json": {
       "model_id": "fca619c834aa4c2ea17bdcf5fd283e51",
       "version_major": 2,
       "version_minor": 0
      },
      "text/plain": [
       "batch_49-00000-of-00001.parquet:   0%|          | 0.00/11.1M [00:00<?, ?B/s]"
      ]
     },
     "metadata": {},
     "output_type": "display_data"
    },
    {
     "data": {
      "application/vnd.jupyter.widget-view+json": {
       "model_id": "3856198f229445aab79ff8e2bff1b5f6",
       "version_major": 2,
       "version_minor": 0
      },
      "text/plain": [
       "batch_9-00000-of-00001.parquet:   0%|          | 0.00/15.3M [00:00<?, ?B/s]"
      ]
     },
     "metadata": {},
     "output_type": "display_data"
    },
    {
     "data": {
      "application/vnd.jupyter.widget-view+json": {
       "model_id": "4b5008cfd5b3477a84d90b2419af9343",
       "version_major": 2,
       "version_minor": 0
      },
      "text/plain": [
       "batch_50-00000-of-00001.parquet:   0%|          | 0.00/18.0M [00:00<?, ?B/s]"
      ]
     },
     "metadata": {},
     "output_type": "display_data"
    },
    {
     "data": {
      "application/vnd.jupyter.widget-view+json": {
       "model_id": "03eee6f2561047dab940e915481bd215",
       "version_major": 2,
       "version_minor": 0
      },
      "text/plain": [
       "batch_10-00000-of-00001.parquet:   0%|          | 0.00/16.4M [00:00<?, ?B/s]"
      ]
     },
     "metadata": {},
     "output_type": "display_data"
    },
    {
     "data": {
      "application/vnd.jupyter.widget-view+json": {
       "model_id": "6cd783a325e849dd817d8f48be68ba11",
       "version_major": 2,
       "version_minor": 0
      },
      "text/plain": [
       "batch_51-00000-of-00001.parquet:   0%|          | 0.00/10.7M [00:00<?, ?B/s]"
      ]
     },
     "metadata": {},
     "output_type": "display_data"
    },
    {
     "data": {
      "application/vnd.jupyter.widget-view+json": {
       "model_id": "726a8732e996494f806d6c0acad10e44",
       "version_major": 2,
       "version_minor": 0
      },
      "text/plain": [
       "batch_11-00000-of-00001.parquet:   0%|          | 0.00/15.2M [00:00<?, ?B/s]"
      ]
     },
     "metadata": {},
     "output_type": "display_data"
    },
    {
     "data": {
      "application/vnd.jupyter.widget-view+json": {
       "model_id": "f33fa8f671304fb194e9c73be2f0ef22",
       "version_major": 2,
       "version_minor": 0
      },
      "text/plain": [
       "batch_52-00000-of-00001.parquet:   0%|          | 0.00/8.71M [00:00<?, ?B/s]"
      ]
     },
     "metadata": {},
     "output_type": "display_data"
    },
    {
     "data": {
      "application/vnd.jupyter.widget-view+json": {
       "model_id": "c56bb5afc9194fef879228e094321e18",
       "version_major": 2,
       "version_minor": 0
      },
      "text/plain": [
       "batch_12-00000-of-00001.parquet:   0%|          | 0.00/14.5M [00:00<?, ?B/s]"
      ]
     },
     "metadata": {},
     "output_type": "display_data"
    },
    {
     "data": {
      "application/vnd.jupyter.widget-view+json": {
       "model_id": "7f3361ee2a9b4823910a31cf6b0afe62",
       "version_major": 2,
       "version_minor": 0
      },
      "text/plain": [
       "batch_53-00000-of-00001.parquet:   0%|          | 0.00/12.5M [00:00<?, ?B/s]"
      ]
     },
     "metadata": {},
     "output_type": "display_data"
    },
    {
     "data": {
      "application/vnd.jupyter.widget-view+json": {
       "model_id": "ebaa778309fa42079fa189c4a62487ea",
       "version_major": 2,
       "version_minor": 0
      },
      "text/plain": [
       "batch_13-00000-of-00001.parquet:   0%|          | 0.00/15.4M [00:00<?, ?B/s]"
      ]
     },
     "metadata": {},
     "output_type": "display_data"
    },
    {
     "data": {
      "application/vnd.jupyter.widget-view+json": {
       "model_id": "bd751f1b3fcb4bb79ef49b9da122e4a0",
       "version_major": 2,
       "version_minor": 0
      },
      "text/plain": [
       "batch_54-00000-of-00001.parquet:   0%|          | 0.00/12.2M [00:00<?, ?B/s]"
      ]
     },
     "metadata": {},
     "output_type": "display_data"
    },
    {
     "data": {
      "application/vnd.jupyter.widget-view+json": {
       "model_id": "282ce636aaeb4be59214445c23690bca",
       "version_major": 2,
       "version_minor": 0
      },
      "text/plain": [
       "batch_14-00000-of-00001.parquet:   0%|          | 0.00/14.3M [00:00<?, ?B/s]"
      ]
     },
     "metadata": {},
     "output_type": "display_data"
    },
    {
     "data": {
      "application/vnd.jupyter.widget-view+json": {
       "model_id": "3dbf4381312543c6b6e461aa34758a9e",
       "version_major": 2,
       "version_minor": 0
      },
      "text/plain": [
       "batch_55-00000-of-00001.parquet:   0%|          | 0.00/15.1M [00:00<?, ?B/s]"
      ]
     },
     "metadata": {},
     "output_type": "display_data"
    },
    {
     "data": {
      "application/vnd.jupyter.widget-view+json": {
       "model_id": "e820032af8ad40258b376e83b43be635",
       "version_major": 2,
       "version_minor": 0
      },
      "text/plain": [
       "batch_15-00000-of-00001.parquet:   0%|          | 0.00/21.2M [00:00<?, ?B/s]"
      ]
     },
     "metadata": {},
     "output_type": "display_data"
    },
    {
     "data": {
      "application/vnd.jupyter.widget-view+json": {
       "model_id": "7cff15000b774d2abf791b593221ea9d",
       "version_major": 2,
       "version_minor": 0
      },
      "text/plain": [
       "batch_56-00000-of-00001.parquet:   0%|          | 0.00/10.4M [00:00<?, ?B/s]"
      ]
     },
     "metadata": {},
     "output_type": "display_data"
    },
    {
     "data": {
      "application/vnd.jupyter.widget-view+json": {
       "model_id": "3f13ceb2e36d49ae93c98299ae13ab5d",
       "version_major": 2,
       "version_minor": 0
      },
      "text/plain": [
       "batch_16-00000-of-00001.parquet:   0%|          | 0.00/17.3M [00:00<?, ?B/s]"
      ]
     },
     "metadata": {},
     "output_type": "display_data"
    },
    {
     "data": {
      "application/vnd.jupyter.widget-view+json": {
       "model_id": "7df85e3e0568417ab339bd1a15b5df25",
       "version_major": 2,
       "version_minor": 0
      },
      "text/plain": [
       "batch_57-00000-of-00001.parquet:   0%|          | 0.00/13.6M [00:00<?, ?B/s]"
      ]
     },
     "metadata": {},
     "output_type": "display_data"
    },
    {
     "data": {
      "application/vnd.jupyter.widget-view+json": {
       "model_id": "3773ce3a9d314c1c9ab43e5dca9ba288",
       "version_major": 2,
       "version_minor": 0
      },
      "text/plain": [
       "batch_17-00000-of-00001.parquet:   0%|          | 0.00/15.3M [00:00<?, ?B/s]"
      ]
     },
     "metadata": {},
     "output_type": "display_data"
    },
    {
     "data": {
      "application/vnd.jupyter.widget-view+json": {
       "model_id": "cf30ef2901c049e9a6ce31d061b6d7e5",
       "version_major": 2,
       "version_minor": 0
      },
      "text/plain": [
       "batch_58-00000-of-00001.parquet:   0%|          | 0.00/13.5M [00:00<?, ?B/s]"
      ]
     },
     "metadata": {},
     "output_type": "display_data"
    },
    {
     "data": {
      "application/vnd.jupyter.widget-view+json": {
       "model_id": "237be4eee7d2478aab22af60ec0fac9a",
       "version_major": 2,
       "version_minor": 0
      },
      "text/plain": [
       "batch_18-00000-of-00001.parquet:   0%|          | 0.00/15.5M [00:00<?, ?B/s]"
      ]
     },
     "metadata": {},
     "output_type": "display_data"
    },
    {
     "data": {
      "application/vnd.jupyter.widget-view+json": {
       "model_id": "6f18c76051c44d3c9545076fae2723dd",
       "version_major": 2,
       "version_minor": 0
      },
      "text/plain": [
       "batch_59-00000-of-00001.parquet:   0%|          | 0.00/13.8M [00:00<?, ?B/s]"
      ]
     },
     "metadata": {},
     "output_type": "display_data"
    },
    {
     "data": {
      "application/vnd.jupyter.widget-view+json": {
       "model_id": "2d7c4b6c7a244957ab2d878ff0897b35",
       "version_major": 2,
       "version_minor": 0
      },
      "text/plain": [
       "batch_19-00000-of-00001.parquet:   0%|          | 0.00/17.9M [00:00<?, ?B/s]"
      ]
     },
     "metadata": {},
     "output_type": "display_data"
    },
    {
     "data": {
      "application/vnd.jupyter.widget-view+json": {
       "model_id": "189b8b92f92b467597d1b2797aa53b42",
       "version_major": 2,
       "version_minor": 0
      },
      "text/plain": [
       "batch_60-00000-of-00001.parquet:   0%|          | 0.00/12.6M [00:00<?, ?B/s]"
      ]
     },
     "metadata": {},
     "output_type": "display_data"
    },
    {
     "data": {
      "application/vnd.jupyter.widget-view+json": {
       "model_id": "2e036de3de7a45e58ebbf2fb59dacfa3",
       "version_major": 2,
       "version_minor": 0
      },
      "text/plain": [
       "batch_20-00000-of-00001.parquet:   0%|          | 0.00/22.9M [00:00<?, ?B/s]"
      ]
     },
     "metadata": {},
     "output_type": "display_data"
    },
    {
     "data": {
      "application/vnd.jupyter.widget-view+json": {
       "model_id": "2e301b1aaaad485bad1af86aa96414f7",
       "version_major": 2,
       "version_minor": 0
      },
      "text/plain": [
       "batch_61-00000-of-00001.parquet:   0%|          | 0.00/12.2M [00:00<?, ?B/s]"
      ]
     },
     "metadata": {},
     "output_type": "display_data"
    },
    {
     "data": {
      "application/vnd.jupyter.widget-view+json": {
       "model_id": "be6db52476904d6ea259c719e4f3b306",
       "version_major": 2,
       "version_minor": 0
      },
      "text/plain": [
       "batch_21-00000-of-00001.parquet:   0%|          | 0.00/20.6M [00:00<?, ?B/s]"
      ]
     },
     "metadata": {},
     "output_type": "display_data"
    },
    {
     "data": {
      "application/vnd.jupyter.widget-view+json": {
       "model_id": "5aedf3e7fed64e3c9d3e4b750649e561",
       "version_major": 2,
       "version_minor": 0
      },
      "text/plain": [
       "batch_62-00000-of-00001.parquet:   0%|          | 0.00/13.9M [00:00<?, ?B/s]"
      ]
     },
     "metadata": {},
     "output_type": "display_data"
    },
    {
     "data": {
      "application/vnd.jupyter.widget-view+json": {
       "model_id": "a6076e08fc434ba28ac779f092d5a0f1",
       "version_major": 2,
       "version_minor": 0
      },
      "text/plain": [
       "batch_63-00000-of-00001.parquet:   0%|          | 0.00/11.9M [00:00<?, ?B/s]"
      ]
     },
     "metadata": {},
     "output_type": "display_data"
    },
    {
     "data": {
      "application/vnd.jupyter.widget-view+json": {
       "model_id": "a63935df0fc1407281874671d54f383e",
       "version_major": 2,
       "version_minor": 0
      },
      "text/plain": [
       "batch_22-00000-of-00001.parquet:   0%|          | 0.00/18.1M [00:00<?, ?B/s]"
      ]
     },
     "metadata": {},
     "output_type": "display_data"
    },
    {
     "data": {
      "application/vnd.jupyter.widget-view+json": {
       "model_id": "8c7b451cdcba4c7b888c32ce60753bd9",
       "version_major": 2,
       "version_minor": 0
      },
      "text/plain": [
       "batch_64-00000-of-00001.parquet:   0%|          | 0.00/10.5M [00:00<?, ?B/s]"
      ]
     },
     "metadata": {},
     "output_type": "display_data"
    },
    {
     "data": {
      "application/vnd.jupyter.widget-view+json": {
       "model_id": "074819a356724e8e8d5c4e7617c1b807",
       "version_major": 2,
       "version_minor": 0
      },
      "text/plain": [
       "batch_23-00000-of-00001.parquet:   0%|          | 0.00/15.0M [00:00<?, ?B/s]"
      ]
     },
     "metadata": {},
     "output_type": "display_data"
    },
    {
     "data": {
      "application/vnd.jupyter.widget-view+json": {
       "model_id": "e33ed5ba0efe47db8702458437dcb99d",
       "version_major": 2,
       "version_minor": 0
      },
      "text/plain": [
       "batch_65-00000-of-00001.parquet:   0%|          | 0.00/13.5M [00:00<?, ?B/s]"
      ]
     },
     "metadata": {},
     "output_type": "display_data"
    },
    {
     "data": {
      "application/vnd.jupyter.widget-view+json": {
       "model_id": "dddc35f82e084b6ba90e0468b7c0fb58",
       "version_major": 2,
       "version_minor": 0
      },
      "text/plain": [
       "batch_24-00000-of-00001.parquet:   0%|          | 0.00/22.5M [00:00<?, ?B/s]"
      ]
     },
     "metadata": {},
     "output_type": "display_data"
    },
    {
     "data": {
      "application/vnd.jupyter.widget-view+json": {
       "model_id": "5fc3062a08074146bdce2b0a20d57bbd",
       "version_major": 2,
       "version_minor": 0
      },
      "text/plain": [
       "batch_66-00000-of-00001.parquet:   0%|          | 0.00/11.9M [00:00<?, ?B/s]"
      ]
     },
     "metadata": {},
     "output_type": "display_data"
    },
    {
     "data": {
      "application/vnd.jupyter.widget-view+json": {
       "model_id": "b30d0cad3f26460d8a30cba33ea6fffb",
       "version_major": 2,
       "version_minor": 0
      },
      "text/plain": [
       "batch_25-00000-of-00001.parquet:   0%|          | 0.00/17.4M [00:00<?, ?B/s]"
      ]
     },
     "metadata": {},
     "output_type": "display_data"
    },
    {
     "data": {
      "application/vnd.jupyter.widget-view+json": {
       "model_id": "f612af8d6605448ba08fde35567e4ae8",
       "version_major": 2,
       "version_minor": 0
      },
      "text/plain": [
       "batch_67-00000-of-00001.parquet:   0%|          | 0.00/13.4M [00:00<?, ?B/s]"
      ]
     },
     "metadata": {},
     "output_type": "display_data"
    },
    {
     "data": {
      "application/vnd.jupyter.widget-view+json": {
       "model_id": "462a8b8ca9fb4b87bb83468b27d8a9d3",
       "version_major": 2,
       "version_minor": 0
      },
      "text/plain": [
       "batch_26-00000-of-00001.parquet:   0%|          | 0.00/15.5M [00:00<?, ?B/s]"
      ]
     },
     "metadata": {},
     "output_type": "display_data"
    },
    {
     "data": {
      "application/vnd.jupyter.widget-view+json": {
       "model_id": "b9a14b5e983d474d9a3348c7ce56022b",
       "version_major": 2,
       "version_minor": 0
      },
      "text/plain": [
       "batch_68-00000-of-00001.parquet:   0%|          | 0.00/9.50M [00:00<?, ?B/s]"
      ]
     },
     "metadata": {},
     "output_type": "display_data"
    },
    {
     "data": {
      "application/vnd.jupyter.widget-view+json": {
       "model_id": "c9485e57e5994a7c8d50c025ecf01193",
       "version_major": 2,
       "version_minor": 0
      },
      "text/plain": [
       "batch_27-00000-of-00001.parquet:   0%|          | 0.00/15.4M [00:00<?, ?B/s]"
      ]
     },
     "metadata": {},
     "output_type": "display_data"
    },
    {
     "data": {
      "application/vnd.jupyter.widget-view+json": {
       "model_id": "82fe12585411417baed3b5e2cee18a22",
       "version_major": 2,
       "version_minor": 0
      },
      "text/plain": [
       "batch_69-00000-of-00001.parquet:   0%|          | 0.00/10.8M [00:00<?, ?B/s]"
      ]
     },
     "metadata": {},
     "output_type": "display_data"
    },
    {
     "data": {
      "application/vnd.jupyter.widget-view+json": {
       "model_id": "837137cbb6864f6dbe8efff23e4d64e0",
       "version_major": 2,
       "version_minor": 0
      },
      "text/plain": [
       "batch_28-00000-of-00001.parquet:   0%|          | 0.00/27.2M [00:00<?, ?B/s]"
      ]
     },
     "metadata": {},
     "output_type": "display_data"
    },
    {
     "data": {
      "application/vnd.jupyter.widget-view+json": {
       "model_id": "8abc74cf6ce04f5ebb791fdc73968810",
       "version_major": 2,
       "version_minor": 0
      },
      "text/plain": [
       "batch_70-00000-of-00001.parquet:   0%|          | 0.00/13.7M [00:00<?, ?B/s]"
      ]
     },
     "metadata": {},
     "output_type": "display_data"
    },
    {
     "data": {
      "application/vnd.jupyter.widget-view+json": {
       "model_id": "b08e08d7047842b989d2b3e1a172d041",
       "version_major": 2,
       "version_minor": 0
      },
      "text/plain": [
       "batch_29-00000-of-00001.parquet:   0%|          | 0.00/13.4M [00:00<?, ?B/s]"
      ]
     },
     "metadata": {},
     "output_type": "display_data"
    },
    {
     "data": {
      "application/vnd.jupyter.widget-view+json": {
       "model_id": "b5a1f6213c5b419cbfe57c31aedfb732",
       "version_major": 2,
       "version_minor": 0
      },
      "text/plain": [
       "batch_71-00000-of-00001.parquet:   0%|          | 0.00/10.2M [00:00<?, ?B/s]"
      ]
     },
     "metadata": {},
     "output_type": "display_data"
    },
    {
     "data": {
      "application/vnd.jupyter.widget-view+json": {
       "model_id": "49f337cbeafb40c3aa16ca73ac22b151",
       "version_major": 2,
       "version_minor": 0
      },
      "text/plain": [
       "batch_30-00000-of-00001.parquet:   0%|          | 0.00/19.6M [00:00<?, ?B/s]"
      ]
     },
     "metadata": {},
     "output_type": "display_data"
    },
    {
     "data": {
      "application/vnd.jupyter.widget-view+json": {
       "model_id": "552d0a38ec044fd9a84bf27b42f9a44c",
       "version_major": 2,
       "version_minor": 0
      },
      "text/plain": [
       "batch_72-00000-of-00001.parquet:   0%|          | 0.00/15.6M [00:00<?, ?B/s]"
      ]
     },
     "metadata": {},
     "output_type": "display_data"
    },
    {
     "data": {
      "application/vnd.jupyter.widget-view+json": {
       "model_id": "a0af194821124034865748fe9878fee3",
       "version_major": 2,
       "version_minor": 0
      },
      "text/plain": [
       "batch_31-00000-of-00001.parquet:   0%|          | 0.00/23.2M [00:00<?, ?B/s]"
      ]
     },
     "metadata": {},
     "output_type": "display_data"
    },
    {
     "data": {
      "application/vnd.jupyter.widget-view+json": {
       "model_id": "f6dec413d25140bdae4569181ead10bf",
       "version_major": 2,
       "version_minor": 0
      },
      "text/plain": [
       "batch_73-00000-of-00001.parquet:   0%|          | 0.00/14.6M [00:00<?, ?B/s]"
      ]
     },
     "metadata": {},
     "output_type": "display_data"
    },
    {
     "data": {
      "application/vnd.jupyter.widget-view+json": {
       "model_id": "2ba79f50b1864b0596f21bbe7b4f8847",
       "version_major": 2,
       "version_minor": 0
      },
      "text/plain": [
       "batch_32-00000-of-00001.parquet:   0%|          | 0.00/17.7M [00:00<?, ?B/s]"
      ]
     },
     "metadata": {},
     "output_type": "display_data"
    },
    {
     "data": {
      "application/vnd.jupyter.widget-view+json": {
       "model_id": "04fe231b83244c4eb0a0dc1b8161a218",
       "version_major": 2,
       "version_minor": 0
      },
      "text/plain": [
       "batch_74-00000-of-00001.parquet:   0%|          | 0.00/10.3M [00:00<?, ?B/s]"
      ]
     },
     "metadata": {},
     "output_type": "display_data"
    },
    {
     "data": {
      "application/vnd.jupyter.widget-view+json": {
       "model_id": "a0ff0ce395c14d18bf41f630b764782e",
       "version_major": 2,
       "version_minor": 0
      },
      "text/plain": [
       "batch_33-00000-of-00001.parquet:   0%|          | 0.00/25.0M [00:00<?, ?B/s]"
      ]
     },
     "metadata": {},
     "output_type": "display_data"
    },
    {
     "data": {
      "application/vnd.jupyter.widget-view+json": {
       "model_id": "b233552eb76140dab9cc94d45ff025bc",
       "version_major": 2,
       "version_minor": 0
      },
      "text/plain": [
       "batch_75-00000-of-00001.parquet:   0%|          | 0.00/11.5M [00:00<?, ?B/s]"
      ]
     },
     "metadata": {},
     "output_type": "display_data"
    },
    {
     "data": {
      "application/vnd.jupyter.widget-view+json": {
       "model_id": "e05a6f9c1e07408fbd07b9cfdb4c829b",
       "version_major": 2,
       "version_minor": 0
      },
      "text/plain": [
       "batch_34-00000-of-00001.parquet:   0%|          | 0.00/20.0M [00:00<?, ?B/s]"
      ]
     },
     "metadata": {},
     "output_type": "display_data"
    },
    {
     "data": {
      "application/vnd.jupyter.widget-view+json": {
       "model_id": "fa686f1b74774b058c4cb0cd1731a782",
       "version_major": 2,
       "version_minor": 0
      },
      "text/plain": [
       "batch_76-00000-of-00001.parquet:   0%|          | 0.00/11.2M [00:00<?, ?B/s]"
      ]
     },
     "metadata": {},
     "output_type": "display_data"
    },
    {
     "data": {
      "application/vnd.jupyter.widget-view+json": {
       "model_id": "0b68de77070a4a689161a41010b6202c",
       "version_major": 2,
       "version_minor": 0
      },
      "text/plain": [
       "batch_35-00000-of-00001.parquet:   0%|          | 0.00/17.8M [00:00<?, ?B/s]"
      ]
     },
     "metadata": {},
     "output_type": "display_data"
    },
    {
     "data": {
      "application/vnd.jupyter.widget-view+json": {
       "model_id": "9aef40013371422792caea3cd2958e46",
       "version_major": 2,
       "version_minor": 0
      },
      "text/plain": [
       "batch_77-00000-of-00001.parquet:   0%|          | 0.00/12.8M [00:00<?, ?B/s]"
      ]
     },
     "metadata": {},
     "output_type": "display_data"
    },
    {
     "data": {
      "application/vnd.jupyter.widget-view+json": {
       "model_id": "63bb7f1559804f0fa25f93bd9b319304",
       "version_major": 2,
       "version_minor": 0
      },
      "text/plain": [
       "batch_36-00000-of-00001.parquet:   0%|          | 0.00/19.6M [00:00<?, ?B/s]"
      ]
     },
     "metadata": {},
     "output_type": "display_data"
    },
    {
     "data": {
      "application/vnd.jupyter.widget-view+json": {
       "model_id": "d578e77fa41148c09c130bc9ca8b51dd",
       "version_major": 2,
       "version_minor": 0
      },
      "text/plain": [
       "batch_78-00000-of-00001.parquet:   0%|          | 0.00/12.3M [00:00<?, ?B/s]"
      ]
     },
     "metadata": {},
     "output_type": "display_data"
    },
    {
     "data": {
      "application/vnd.jupyter.widget-view+json": {
       "model_id": "4b818f2bc2914c419382147aeaceebf9",
       "version_major": 2,
       "version_minor": 0
      },
      "text/plain": [
       "batch_37-00000-of-00001.parquet:   0%|          | 0.00/19.3M [00:00<?, ?B/s]"
      ]
     },
     "metadata": {},
     "output_type": "display_data"
    },
    {
     "data": {
      "application/vnd.jupyter.widget-view+json": {
       "model_id": "292108b22d5a40e29c9cea8002dc950f",
       "version_major": 2,
       "version_minor": 0
      },
      "text/plain": [
       "batch_79-00000-of-00001.parquet:   0%|          | 0.00/14.9M [00:00<?, ?B/s]"
      ]
     },
     "metadata": {},
     "output_type": "display_data"
    },
    {
     "data": {
      "application/vnd.jupyter.widget-view+json": {
       "model_id": "95084e236a8547379b4d4ff2d432b0d7",
       "version_major": 2,
       "version_minor": 0
      },
      "text/plain": [
       "batch_38-00000-of-00001.parquet:   0%|          | 0.00/16.7M [00:00<?, ?B/s]"
      ]
     },
     "metadata": {},
     "output_type": "display_data"
    },
    {
     "data": {
      "application/vnd.jupyter.widget-view+json": {
       "model_id": "e28bc27d73f74844a77b2a9c62210ab8",
       "version_major": 2,
       "version_minor": 0
      },
      "text/plain": [
       "batch_80-00000-of-00001.parquet:   0%|          | 0.00/17.5M [00:00<?, ?B/s]"
      ]
     },
     "metadata": {},
     "output_type": "display_data"
    },
    {
     "data": {
      "application/vnd.jupyter.widget-view+json": {
       "model_id": "27296096a6864c9daf3c598fcd71d128",
       "version_major": 2,
       "version_minor": 0
      },
      "text/plain": [
       "batch_39-00000-of-00001.parquet:   0%|          | 0.00/19.2M [00:00<?, ?B/s]"
      ]
     },
     "metadata": {},
     "output_type": "display_data"
    },
    {
     "data": {
      "application/vnd.jupyter.widget-view+json": {
       "model_id": "6aa3ff974cfb4da580e0c24b59c6b71c",
       "version_major": 2,
       "version_minor": 0
      },
      "text/plain": [
       "batch_81-00000-of-00001.parquet:   0%|          | 0.00/12.7M [00:00<?, ?B/s]"
      ]
     },
     "metadata": {},
     "output_type": "display_data"
    },
    {
     "data": {
      "application/vnd.jupyter.widget-view+json": {
       "model_id": "db017d733b674abbbdf9bb230f387278",
       "version_major": 2,
       "version_minor": 0
      },
      "text/plain": [
       "batch_40-00000-of-00001.parquet:   0%|          | 0.00/16.6M [00:00<?, ?B/s]"
      ]
     },
     "metadata": {},
     "output_type": "display_data"
    },
    {
     "data": {
      "application/vnd.jupyter.widget-view+json": {
       "model_id": "0c1ae9b2b7044af0a0176e9cc9ecfaa0",
       "version_major": 2,
       "version_minor": 0
      },
      "text/plain": [
       "batch_82-00000-of-00001.parquet:   0%|          | 0.00/9.37M [00:00<?, ?B/s]"
      ]
     },
     "metadata": {},
     "output_type": "display_data"
    },
    {
     "data": {
      "application/vnd.jupyter.widget-view+json": {
       "model_id": "cbb83e4a7ec7404b9ee3e4eb67b07d3a",
       "version_major": 2,
       "version_minor": 0
      },
      "text/plain": [
       "batch_83-00000-of-00001.parquet:   0%|          | 0.00/18.2M [00:00<?, ?B/s]"
      ]
     },
     "metadata": {},
     "output_type": "display_data"
    },
    {
     "data": {
      "application/vnd.jupyter.widget-view+json": {
       "model_id": "bc4095ce5b4846d58fec7be4508512f2",
       "version_major": 2,
       "version_minor": 0
      },
      "text/plain": [
       "batch_84-00000-of-00001.parquet:   0%|          | 0.00/16.6M [00:00<?, ?B/s]"
      ]
     },
     "metadata": {},
     "output_type": "display_data"
    },
    {
     "data": {
      "application/vnd.jupyter.widget-view+json": {
       "model_id": "108abbdd65604f2591570956735fc2cb",
       "version_major": 2,
       "version_minor": 0
      },
      "text/plain": [
       "batch_85-00000-of-00001.parquet:   0%|          | 0.00/15.2M [00:00<?, ?B/s]"
      ]
     },
     "metadata": {},
     "output_type": "display_data"
    },
    {
     "data": {
      "application/vnd.jupyter.widget-view+json": {
       "model_id": "ede5c80632e046afb33c9a810c83f68d",
       "version_major": 2,
       "version_minor": 0
      },
      "text/plain": [
       "batch_86-00000-of-00001.parquet:   0%|          | 0.00/11.0M [00:00<?, ?B/s]"
      ]
     },
     "metadata": {},
     "output_type": "display_data"
    },
    {
     "data": {
      "application/vnd.jupyter.widget-view+json": {
       "model_id": "a45d96c8b8994b16b85f6f850dbdd587",
       "version_major": 2,
       "version_minor": 0
      },
      "text/plain": [
       "Generating batch_0 split:   0%|          | 0/20 [00:00<?, ? examples/s]"
      ]
     },
     "metadata": {},
     "output_type": "display_data"
    },
    {
     "data": {
      "application/vnd.jupyter.widget-view+json": {
       "model_id": "a1b705d082614004a5d0e6fa97c22895",
       "version_major": 2,
       "version_minor": 0
      },
      "text/plain": [
       "Generating batch_41 split:   0%|          | 0/20 [00:00<?, ? examples/s]"
      ]
     },
     "metadata": {},
     "output_type": "display_data"
    },
    {
     "data": {
      "application/vnd.jupyter.widget-view+json": {
       "model_id": "397dc26cb936475cb660dfd356c3abe7",
       "version_major": 2,
       "version_minor": 0
      },
      "text/plain": [
       "Generating batch_1 split:   0%|          | 0/20 [00:00<?, ? examples/s]"
      ]
     },
     "metadata": {},
     "output_type": "display_data"
    },
    {
     "data": {
      "application/vnd.jupyter.widget-view+json": {
       "model_id": "5530384f5fae4cca83b68fa8825adc85",
       "version_major": 2,
       "version_minor": 0
      },
      "text/plain": [
       "Generating batch_42 split:   0%|          | 0/20 [00:00<?, ? examples/s]"
      ]
     },
     "metadata": {},
     "output_type": "display_data"
    },
    {
     "data": {
      "application/vnd.jupyter.widget-view+json": {
       "model_id": "5ae935d83c8a4a6e84124151b4acd7bd",
       "version_major": 2,
       "version_minor": 0
      },
      "text/plain": [
       "Generating batch_2 split:   0%|          | 0/20 [00:00<?, ? examples/s]"
      ]
     },
     "metadata": {},
     "output_type": "display_data"
    },
    {
     "data": {
      "application/vnd.jupyter.widget-view+json": {
       "model_id": "87c75caff205491fa7ccd6784c57b5c7",
       "version_major": 2,
       "version_minor": 0
      },
      "text/plain": [
       "Generating batch_43 split:   0%|          | 0/20 [00:00<?, ? examples/s]"
      ]
     },
     "metadata": {},
     "output_type": "display_data"
    },
    {
     "data": {
      "application/vnd.jupyter.widget-view+json": {
       "model_id": "5cbec0fa5cc74e9d847f08a973852607",
       "version_major": 2,
       "version_minor": 0
      },
      "text/plain": [
       "Generating batch_3 split:   0%|          | 0/20 [00:00<?, ? examples/s]"
      ]
     },
     "metadata": {},
     "output_type": "display_data"
    },
    {
     "data": {
      "application/vnd.jupyter.widget-view+json": {
       "model_id": "12a41acdfed240b8bda3731994c1a668",
       "version_major": 2,
       "version_minor": 0
      },
      "text/plain": [
       "Generating batch_44 split:   0%|          | 0/20 [00:00<?, ? examples/s]"
      ]
     },
     "metadata": {},
     "output_type": "display_data"
    },
    {
     "data": {
      "application/vnd.jupyter.widget-view+json": {
       "model_id": "1f23b91e150441da90a9bd716ade998f",
       "version_major": 2,
       "version_minor": 0
      },
      "text/plain": [
       "Generating batch_4 split:   0%|          | 0/20 [00:00<?, ? examples/s]"
      ]
     },
     "metadata": {},
     "output_type": "display_data"
    },
    {
     "data": {
      "application/vnd.jupyter.widget-view+json": {
       "model_id": "8a4f3b44c5ed4986ba3d8629d9292e38",
       "version_major": 2,
       "version_minor": 0
      },
      "text/plain": [
       "Generating batch_45 split:   0%|          | 0/20 [00:00<?, ? examples/s]"
      ]
     },
     "metadata": {},
     "output_type": "display_data"
    },
    {
     "data": {
      "application/vnd.jupyter.widget-view+json": {
       "model_id": "9f0e1ab0f82b4a6c98db4dc8f69c7cb0",
       "version_major": 2,
       "version_minor": 0
      },
      "text/plain": [
       "Generating batch_5 split:   0%|          | 0/20 [00:00<?, ? examples/s]"
      ]
     },
     "metadata": {},
     "output_type": "display_data"
    },
    {
     "data": {
      "application/vnd.jupyter.widget-view+json": {
       "model_id": "872196836e0843379781ba901f3a1970",
       "version_major": 2,
       "version_minor": 0
      },
      "text/plain": [
       "Generating batch_46 split:   0%|          | 0/20 [00:00<?, ? examples/s]"
      ]
     },
     "metadata": {},
     "output_type": "display_data"
    },
    {
     "data": {
      "application/vnd.jupyter.widget-view+json": {
       "model_id": "910da81cd85745b5866609e3012b0122",
       "version_major": 2,
       "version_minor": 0
      },
      "text/plain": [
       "Generating batch_6 split:   0%|          | 0/20 [00:00<?, ? examples/s]"
      ]
     },
     "metadata": {},
     "output_type": "display_data"
    },
    {
     "data": {
      "application/vnd.jupyter.widget-view+json": {
       "model_id": "da4567bedb91420d98c25e9e153b0939",
       "version_major": 2,
       "version_minor": 0
      },
      "text/plain": [
       "Generating batch_47 split:   0%|          | 0/20 [00:00<?, ? examples/s]"
      ]
     },
     "metadata": {},
     "output_type": "display_data"
    },
    {
     "data": {
      "application/vnd.jupyter.widget-view+json": {
       "model_id": "c27e10ae73604bb9a1431f9b02cc17c2",
       "version_major": 2,
       "version_minor": 0
      },
      "text/plain": [
       "Generating batch_7 split:   0%|          | 0/20 [00:00<?, ? examples/s]"
      ]
     },
     "metadata": {},
     "output_type": "display_data"
    },
    {
     "data": {
      "application/vnd.jupyter.widget-view+json": {
       "model_id": "fadbd6b0c81849dba2166988c0878d0e",
       "version_major": 2,
       "version_minor": 0
      },
      "text/plain": [
       "Generating batch_48 split:   0%|          | 0/20 [00:00<?, ? examples/s]"
      ]
     },
     "metadata": {},
     "output_type": "display_data"
    },
    {
     "data": {
      "application/vnd.jupyter.widget-view+json": {
       "model_id": "839ff1cb2ddb4f91b5c845ba4a02328b",
       "version_major": 2,
       "version_minor": 0
      },
      "text/plain": [
       "Generating batch_8 split:   0%|          | 0/20 [00:00<?, ? examples/s]"
      ]
     },
     "metadata": {},
     "output_type": "display_data"
    },
    {
     "data": {
      "application/vnd.jupyter.widget-view+json": {
       "model_id": "b4380510186142f78bc03655c630ae08",
       "version_major": 2,
       "version_minor": 0
      },
      "text/plain": [
       "Generating batch_49 split:   0%|          | 0/20 [00:00<?, ? examples/s]"
      ]
     },
     "metadata": {},
     "output_type": "display_data"
    },
    {
     "data": {
      "application/vnd.jupyter.widget-view+json": {
       "model_id": "3701507c2ca6442eac076abc8183c560",
       "version_major": 2,
       "version_minor": 0
      },
      "text/plain": [
       "Generating batch_9 split:   0%|          | 0/20 [00:00<?, ? examples/s]"
      ]
     },
     "metadata": {},
     "output_type": "display_data"
    },
    {
     "data": {
      "application/vnd.jupyter.widget-view+json": {
       "model_id": "bf03498558224bd988ec59891fc93988",
       "version_major": 2,
       "version_minor": 0
      },
      "text/plain": [
       "Generating batch_50 split:   0%|          | 0/20 [00:00<?, ? examples/s]"
      ]
     },
     "metadata": {},
     "output_type": "display_data"
    },
    {
     "data": {
      "application/vnd.jupyter.widget-view+json": {
       "model_id": "27aa6509499b464983927eab4d71356f",
       "version_major": 2,
       "version_minor": 0
      },
      "text/plain": [
       "Generating batch_10 split:   0%|          | 0/20 [00:00<?, ? examples/s]"
      ]
     },
     "metadata": {},
     "output_type": "display_data"
    },
    {
     "data": {
      "application/vnd.jupyter.widget-view+json": {
       "model_id": "b90ca7a7eed44522b7a88d7af478f31e",
       "version_major": 2,
       "version_minor": 0
      },
      "text/plain": [
       "Generating batch_51 split:   0%|          | 0/20 [00:00<?, ? examples/s]"
      ]
     },
     "metadata": {},
     "output_type": "display_data"
    },
    {
     "data": {
      "application/vnd.jupyter.widget-view+json": {
       "model_id": "9913237adf33497d8a6a1f47f545110d",
       "version_major": 2,
       "version_minor": 0
      },
      "text/plain": [
       "Generating batch_11 split:   0%|          | 0/20 [00:00<?, ? examples/s]"
      ]
     },
     "metadata": {},
     "output_type": "display_data"
    },
    {
     "data": {
      "application/vnd.jupyter.widget-view+json": {
       "model_id": "64378943d79848f09b0824a2944b6267",
       "version_major": 2,
       "version_minor": 0
      },
      "text/plain": [
       "Generating batch_52 split:   0%|          | 0/20 [00:00<?, ? examples/s]"
      ]
     },
     "metadata": {},
     "output_type": "display_data"
    },
    {
     "data": {
      "application/vnd.jupyter.widget-view+json": {
       "model_id": "52052d619f93406a9d074268fa552760",
       "version_major": 2,
       "version_minor": 0
      },
      "text/plain": [
       "Generating batch_12 split:   0%|          | 0/20 [00:00<?, ? examples/s]"
      ]
     },
     "metadata": {},
     "output_type": "display_data"
    },
    {
     "data": {
      "application/vnd.jupyter.widget-view+json": {
       "model_id": "4eee47e9454e43da983c806c1e14070f",
       "version_major": 2,
       "version_minor": 0
      },
      "text/plain": [
       "Generating batch_53 split:   0%|          | 0/20 [00:00<?, ? examples/s]"
      ]
     },
     "metadata": {},
     "output_type": "display_data"
    },
    {
     "data": {
      "application/vnd.jupyter.widget-view+json": {
       "model_id": "81e042f75c9e4047b7d87c6a3c9c8517",
       "version_major": 2,
       "version_minor": 0
      },
      "text/plain": [
       "Generating batch_13 split:   0%|          | 0/20 [00:00<?, ? examples/s]"
      ]
     },
     "metadata": {},
     "output_type": "display_data"
    },
    {
     "data": {
      "application/vnd.jupyter.widget-view+json": {
       "model_id": "58d220caf71948249237ac2a03e7a335",
       "version_major": 2,
       "version_minor": 0
      },
      "text/plain": [
       "Generating batch_54 split:   0%|          | 0/20 [00:00<?, ? examples/s]"
      ]
     },
     "metadata": {},
     "output_type": "display_data"
    },
    {
     "data": {
      "application/vnd.jupyter.widget-view+json": {
       "model_id": "3451e27ebbae49b3994d019756a7671a",
       "version_major": 2,
       "version_minor": 0
      },
      "text/plain": [
       "Generating batch_14 split:   0%|          | 0/20 [00:00<?, ? examples/s]"
      ]
     },
     "metadata": {},
     "output_type": "display_data"
    },
    {
     "data": {
      "application/vnd.jupyter.widget-view+json": {
       "model_id": "d70a7b06a5d141c29aa4296abda4666c",
       "version_major": 2,
       "version_minor": 0
      },
      "text/plain": [
       "Generating batch_55 split:   0%|          | 0/20 [00:00<?, ? examples/s]"
      ]
     },
     "metadata": {},
     "output_type": "display_data"
    },
    {
     "data": {
      "application/vnd.jupyter.widget-view+json": {
       "model_id": "dfbae246ae57438383e8b8af0e781953",
       "version_major": 2,
       "version_minor": 0
      },
      "text/plain": [
       "Generating batch_15 split:   0%|          | 0/20 [00:00<?, ? examples/s]"
      ]
     },
     "metadata": {},
     "output_type": "display_data"
    },
    {
     "data": {
      "application/vnd.jupyter.widget-view+json": {
       "model_id": "c3e3c6aa38a241bb8212d264790fbe3a",
       "version_major": 2,
       "version_minor": 0
      },
      "text/plain": [
       "Generating batch_56 split:   0%|          | 0/20 [00:00<?, ? examples/s]"
      ]
     },
     "metadata": {},
     "output_type": "display_data"
    },
    {
     "data": {
      "application/vnd.jupyter.widget-view+json": {
       "model_id": "cc45b7ff11f94c7191dae6b096cfdf10",
       "version_major": 2,
       "version_minor": 0
      },
      "text/plain": [
       "Generating batch_16 split:   0%|          | 0/20 [00:00<?, ? examples/s]"
      ]
     },
     "metadata": {},
     "output_type": "display_data"
    },
    {
     "data": {
      "application/vnd.jupyter.widget-view+json": {
       "model_id": "0a8ef0f70f7e42dc821b8ce0a19d69eb",
       "version_major": 2,
       "version_minor": 0
      },
      "text/plain": [
       "Generating batch_57 split:   0%|          | 0/20 [00:00<?, ? examples/s]"
      ]
     },
     "metadata": {},
     "output_type": "display_data"
    },
    {
     "data": {
      "application/vnd.jupyter.widget-view+json": {
       "model_id": "056837becb7d42aca847c59a5acc7d2a",
       "version_major": 2,
       "version_minor": 0
      },
      "text/plain": [
       "Generating batch_17 split:   0%|          | 0/20 [00:00<?, ? examples/s]"
      ]
     },
     "metadata": {},
     "output_type": "display_data"
    },
    {
     "data": {
      "application/vnd.jupyter.widget-view+json": {
       "model_id": "668ea6ffa4ab41f1877b4543aae90d9d",
       "version_major": 2,
       "version_minor": 0
      },
      "text/plain": [
       "Generating batch_58 split:   0%|          | 0/20 [00:00<?, ? examples/s]"
      ]
     },
     "metadata": {},
     "output_type": "display_data"
    },
    {
     "data": {
      "application/vnd.jupyter.widget-view+json": {
       "model_id": "3b144a14ef0f4f6da79f4fd34c922ef3",
       "version_major": 2,
       "version_minor": 0
      },
      "text/plain": [
       "Generating batch_18 split:   0%|          | 0/20 [00:00<?, ? examples/s]"
      ]
     },
     "metadata": {},
     "output_type": "display_data"
    },
    {
     "data": {
      "application/vnd.jupyter.widget-view+json": {
       "model_id": "0617966900db4648913e5e380cddc3cf",
       "version_major": 2,
       "version_minor": 0
      },
      "text/plain": [
       "Generating batch_59 split:   0%|          | 0/20 [00:00<?, ? examples/s]"
      ]
     },
     "metadata": {},
     "output_type": "display_data"
    },
    {
     "data": {
      "application/vnd.jupyter.widget-view+json": {
       "model_id": "147b464d045944acbea9ccced28d50d5",
       "version_major": 2,
       "version_minor": 0
      },
      "text/plain": [
       "Generating batch_19 split:   0%|          | 0/20 [00:00<?, ? examples/s]"
      ]
     },
     "metadata": {},
     "output_type": "display_data"
    },
    {
     "data": {
      "application/vnd.jupyter.widget-view+json": {
       "model_id": "5c45f0b1726b447da5ac8281f5a67b09",
       "version_major": 2,
       "version_minor": 0
      },
      "text/plain": [
       "Generating batch_60 split:   0%|          | 0/20 [00:00<?, ? examples/s]"
      ]
     },
     "metadata": {},
     "output_type": "display_data"
    },
    {
     "data": {
      "application/vnd.jupyter.widget-view+json": {
       "model_id": "3a24edc0dc5a46b6b2b54e132e54409f",
       "version_major": 2,
       "version_minor": 0
      },
      "text/plain": [
       "Generating batch_20 split:   0%|          | 0/20 [00:00<?, ? examples/s]"
      ]
     },
     "metadata": {},
     "output_type": "display_data"
    },
    {
     "data": {
      "application/vnd.jupyter.widget-view+json": {
       "model_id": "1ecdfc303b4742fc84caafb4d1c3622a",
       "version_major": 2,
       "version_minor": 0
      },
      "text/plain": [
       "Generating batch_61 split:   0%|          | 0/20 [00:00<?, ? examples/s]"
      ]
     },
     "metadata": {},
     "output_type": "display_data"
    },
    {
     "data": {
      "application/vnd.jupyter.widget-view+json": {
       "model_id": "d43b5a70c0314ac5adcffa29c92396f3",
       "version_major": 2,
       "version_minor": 0
      },
      "text/plain": [
       "Generating batch_21 split:   0%|          | 0/20 [00:00<?, ? examples/s]"
      ]
     },
     "metadata": {},
     "output_type": "display_data"
    },
    {
     "data": {
      "application/vnd.jupyter.widget-view+json": {
       "model_id": "d5c355d7f96e4c08acddf509f10f3a52",
       "version_major": 2,
       "version_minor": 0
      },
      "text/plain": [
       "Generating batch_62 split:   0%|          | 0/20 [00:00<?, ? examples/s]"
      ]
     },
     "metadata": {},
     "output_type": "display_data"
    },
    {
     "data": {
      "application/vnd.jupyter.widget-view+json": {
       "model_id": "6109821c5084437f95f6c6962d44e74d",
       "version_major": 2,
       "version_minor": 0
      },
      "text/plain": [
       "Generating batch_63 split:   0%|          | 0/20 [00:00<?, ? examples/s]"
      ]
     },
     "metadata": {},
     "output_type": "display_data"
    },
    {
     "data": {
      "application/vnd.jupyter.widget-view+json": {
       "model_id": "529effbb231141f38f86cbc1402bee5f",
       "version_major": 2,
       "version_minor": 0
      },
      "text/plain": [
       "Generating batch_22 split:   0%|          | 0/20 [00:00<?, ? examples/s]"
      ]
     },
     "metadata": {},
     "output_type": "display_data"
    },
    {
     "data": {
      "application/vnd.jupyter.widget-view+json": {
       "model_id": "3dd7f895ae434513805ff34d8e25d08d",
       "version_major": 2,
       "version_minor": 0
      },
      "text/plain": [
       "Generating batch_64 split:   0%|          | 0/20 [00:00<?, ? examples/s]"
      ]
     },
     "metadata": {},
     "output_type": "display_data"
    },
    {
     "data": {
      "application/vnd.jupyter.widget-view+json": {
       "model_id": "a95f0c5e6d0447608a72120203fca23a",
       "version_major": 2,
       "version_minor": 0
      },
      "text/plain": [
       "Generating batch_23 split:   0%|          | 0/20 [00:00<?, ? examples/s]"
      ]
     },
     "metadata": {},
     "output_type": "display_data"
    },
    {
     "data": {
      "application/vnd.jupyter.widget-view+json": {
       "model_id": "caf2a20de8114897b0f0ee616cf13e58",
       "version_major": 2,
       "version_minor": 0
      },
      "text/plain": [
       "Generating batch_65 split:   0%|          | 0/20 [00:00<?, ? examples/s]"
      ]
     },
     "metadata": {},
     "output_type": "display_data"
    },
    {
     "data": {
      "application/vnd.jupyter.widget-view+json": {
       "model_id": "539a7f843b4446c58c3c5aa7a9f4befd",
       "version_major": 2,
       "version_minor": 0
      },
      "text/plain": [
       "Generating batch_24 split:   0%|          | 0/20 [00:00<?, ? examples/s]"
      ]
     },
     "metadata": {},
     "output_type": "display_data"
    },
    {
     "data": {
      "application/vnd.jupyter.widget-view+json": {
       "model_id": "94d1e801f0e7493292d1bc35cd152d98",
       "version_major": 2,
       "version_minor": 0
      },
      "text/plain": [
       "Generating batch_66 split:   0%|          | 0/20 [00:00<?, ? examples/s]"
      ]
     },
     "metadata": {},
     "output_type": "display_data"
    },
    {
     "data": {
      "application/vnd.jupyter.widget-view+json": {
       "model_id": "17c4d84c8e2141d7b2b8971abb9af371",
       "version_major": 2,
       "version_minor": 0
      },
      "text/plain": [
       "Generating batch_25 split:   0%|          | 0/20 [00:00<?, ? examples/s]"
      ]
     },
     "metadata": {},
     "output_type": "display_data"
    },
    {
     "data": {
      "application/vnd.jupyter.widget-view+json": {
       "model_id": "d61caab5e6bb408baafcad79dd6eb113",
       "version_major": 2,
       "version_minor": 0
      },
      "text/plain": [
       "Generating batch_67 split:   0%|          | 0/20 [00:00<?, ? examples/s]"
      ]
     },
     "metadata": {},
     "output_type": "display_data"
    },
    {
     "data": {
      "application/vnd.jupyter.widget-view+json": {
       "model_id": "4d0555d39f8e41ab90ec9d5c25ac575f",
       "version_major": 2,
       "version_minor": 0
      },
      "text/plain": [
       "Generating batch_26 split:   0%|          | 0/20 [00:00<?, ? examples/s]"
      ]
     },
     "metadata": {},
     "output_type": "display_data"
    },
    {
     "data": {
      "application/vnd.jupyter.widget-view+json": {
       "model_id": "e94d60b78c444062bde8205b0df438ad",
       "version_major": 2,
       "version_minor": 0
      },
      "text/plain": [
       "Generating batch_68 split:   0%|          | 0/20 [00:00<?, ? examples/s]"
      ]
     },
     "metadata": {},
     "output_type": "display_data"
    },
    {
     "data": {
      "application/vnd.jupyter.widget-view+json": {
       "model_id": "486d3f00f0ae4e199b7e379844b30543",
       "version_major": 2,
       "version_minor": 0
      },
      "text/plain": [
       "Generating batch_27 split:   0%|          | 0/20 [00:00<?, ? examples/s]"
      ]
     },
     "metadata": {},
     "output_type": "display_data"
    },
    {
     "data": {
      "application/vnd.jupyter.widget-view+json": {
       "model_id": "8d429dd5875f4da5a5fe0a888dd5ad6d",
       "version_major": 2,
       "version_minor": 0
      },
      "text/plain": [
       "Generating batch_69 split:   0%|          | 0/20 [00:00<?, ? examples/s]"
      ]
     },
     "metadata": {},
     "output_type": "display_data"
    },
    {
     "data": {
      "application/vnd.jupyter.widget-view+json": {
       "model_id": "707ccb768f304bf28ec14aff0c540cc3",
       "version_major": 2,
       "version_minor": 0
      },
      "text/plain": [
       "Generating batch_28 split:   0%|          | 0/20 [00:00<?, ? examples/s]"
      ]
     },
     "metadata": {},
     "output_type": "display_data"
    },
    {
     "data": {
      "application/vnd.jupyter.widget-view+json": {
       "model_id": "9a859b34262f4492a58524170878b7cb",
       "version_major": 2,
       "version_minor": 0
      },
      "text/plain": [
       "Generating batch_70 split:   0%|          | 0/20 [00:00<?, ? examples/s]"
      ]
     },
     "metadata": {},
     "output_type": "display_data"
    },
    {
     "data": {
      "application/vnd.jupyter.widget-view+json": {
       "model_id": "7163621c913342a2a241a98cedc586e5",
       "version_major": 2,
       "version_minor": 0
      },
      "text/plain": [
       "Generating batch_29 split:   0%|          | 0/20 [00:00<?, ? examples/s]"
      ]
     },
     "metadata": {},
     "output_type": "display_data"
    },
    {
     "data": {
      "application/vnd.jupyter.widget-view+json": {
       "model_id": "fc3d54c59052466fac397afbcb17732a",
       "version_major": 2,
       "version_minor": 0
      },
      "text/plain": [
       "Generating batch_71 split:   0%|          | 0/20 [00:00<?, ? examples/s]"
      ]
     },
     "metadata": {},
     "output_type": "display_data"
    },
    {
     "data": {
      "application/vnd.jupyter.widget-view+json": {
       "model_id": "01d26834e022404eb39686da73bc343e",
       "version_major": 2,
       "version_minor": 0
      },
      "text/plain": [
       "Generating batch_30 split:   0%|          | 0/20 [00:00<?, ? examples/s]"
      ]
     },
     "metadata": {},
     "output_type": "display_data"
    },
    {
     "data": {
      "application/vnd.jupyter.widget-view+json": {
       "model_id": "7f3e28cc3acd4266a3ce2d6f4430fd1e",
       "version_major": 2,
       "version_minor": 0
      },
      "text/plain": [
       "Generating batch_72 split:   0%|          | 0/20 [00:00<?, ? examples/s]"
      ]
     },
     "metadata": {},
     "output_type": "display_data"
    },
    {
     "data": {
      "application/vnd.jupyter.widget-view+json": {
       "model_id": "4ef56b03992b41969956b09a89a67ffb",
       "version_major": 2,
       "version_minor": 0
      },
      "text/plain": [
       "Generating batch_31 split:   0%|          | 0/20 [00:00<?, ? examples/s]"
      ]
     },
     "metadata": {},
     "output_type": "display_data"
    },
    {
     "data": {
      "application/vnd.jupyter.widget-view+json": {
       "model_id": "c7cd688188244e329726a7bfe02ece93",
       "version_major": 2,
       "version_minor": 0
      },
      "text/plain": [
       "Generating batch_73 split:   0%|          | 0/20 [00:00<?, ? examples/s]"
      ]
     },
     "metadata": {},
     "output_type": "display_data"
    },
    {
     "data": {
      "application/vnd.jupyter.widget-view+json": {
       "model_id": "d5f1bac9edf54c91888de824eed59146",
       "version_major": 2,
       "version_minor": 0
      },
      "text/plain": [
       "Generating batch_32 split:   0%|          | 0/20 [00:00<?, ? examples/s]"
      ]
     },
     "metadata": {},
     "output_type": "display_data"
    },
    {
     "data": {
      "application/vnd.jupyter.widget-view+json": {
       "model_id": "5a93853bd74a43d4a2798ec0e520f5de",
       "version_major": 2,
       "version_minor": 0
      },
      "text/plain": [
       "Generating batch_74 split:   0%|          | 0/20 [00:00<?, ? examples/s]"
      ]
     },
     "metadata": {},
     "output_type": "display_data"
    },
    {
     "data": {
      "application/vnd.jupyter.widget-view+json": {
       "model_id": "ff8f71dd8b0b4489a764b02dc319d46e",
       "version_major": 2,
       "version_minor": 0
      },
      "text/plain": [
       "Generating batch_33 split:   0%|          | 0/20 [00:00<?, ? examples/s]"
      ]
     },
     "metadata": {},
     "output_type": "display_data"
    },
    {
     "data": {
      "application/vnd.jupyter.widget-view+json": {
       "model_id": "b2c625a70ae2475689ef6d440555a276",
       "version_major": 2,
       "version_minor": 0
      },
      "text/plain": [
       "Generating batch_75 split:   0%|          | 0/20 [00:00<?, ? examples/s]"
      ]
     },
     "metadata": {},
     "output_type": "display_data"
    },
    {
     "data": {
      "application/vnd.jupyter.widget-view+json": {
       "model_id": "33fd3adf54a24278a3501003959bf0ad",
       "version_major": 2,
       "version_minor": 0
      },
      "text/plain": [
       "Generating batch_34 split:   0%|          | 0/20 [00:00<?, ? examples/s]"
      ]
     },
     "metadata": {},
     "output_type": "display_data"
    },
    {
     "data": {
      "application/vnd.jupyter.widget-view+json": {
       "model_id": "192ac03e932d4c718c9fcc321d895621",
       "version_major": 2,
       "version_minor": 0
      },
      "text/plain": [
       "Generating batch_76 split:   0%|          | 0/20 [00:00<?, ? examples/s]"
      ]
     },
     "metadata": {},
     "output_type": "display_data"
    },
    {
     "data": {
      "application/vnd.jupyter.widget-view+json": {
       "model_id": "acfd57f2f13d48f1b7e56e6dfd0be499",
       "version_major": 2,
       "version_minor": 0
      },
      "text/plain": [
       "Generating batch_35 split:   0%|          | 0/20 [00:00<?, ? examples/s]"
      ]
     },
     "metadata": {},
     "output_type": "display_data"
    },
    {
     "data": {
      "application/vnd.jupyter.widget-view+json": {
       "model_id": "0392b71d5b274c66948b5655b98bd77e",
       "version_major": 2,
       "version_minor": 0
      },
      "text/plain": [
       "Generating batch_77 split:   0%|          | 0/20 [00:00<?, ? examples/s]"
      ]
     },
     "metadata": {},
     "output_type": "display_data"
    },
    {
     "data": {
      "application/vnd.jupyter.widget-view+json": {
       "model_id": "0873a9d9048143e6bb1394cd4420ac7f",
       "version_major": 2,
       "version_minor": 0
      },
      "text/plain": [
       "Generating batch_36 split:   0%|          | 0/20 [00:00<?, ? examples/s]"
      ]
     },
     "metadata": {},
     "output_type": "display_data"
    },
    {
     "data": {
      "application/vnd.jupyter.widget-view+json": {
       "model_id": "d6472246aa4d491c816d195cb550b086",
       "version_major": 2,
       "version_minor": 0
      },
      "text/plain": [
       "Generating batch_78 split:   0%|          | 0/20 [00:00<?, ? examples/s]"
      ]
     },
     "metadata": {},
     "output_type": "display_data"
    },
    {
     "data": {
      "application/vnd.jupyter.widget-view+json": {
       "model_id": "345670f2694743eda424e15517220546",
       "version_major": 2,
       "version_minor": 0
      },
      "text/plain": [
       "Generating batch_37 split:   0%|          | 0/20 [00:00<?, ? examples/s]"
      ]
     },
     "metadata": {},
     "output_type": "display_data"
    },
    {
     "data": {
      "application/vnd.jupyter.widget-view+json": {
       "model_id": "d007853ad1ea43eaabad5baed7c7b466",
       "version_major": 2,
       "version_minor": 0
      },
      "text/plain": [
       "Generating batch_79 split:   0%|          | 0/20 [00:00<?, ? examples/s]"
      ]
     },
     "metadata": {},
     "output_type": "display_data"
    },
    {
     "data": {
      "application/vnd.jupyter.widget-view+json": {
       "model_id": "0cc82cc0ac6b4742b45b44831e84733c",
       "version_major": 2,
       "version_minor": 0
      },
      "text/plain": [
       "Generating batch_38 split:   0%|          | 0/20 [00:00<?, ? examples/s]"
      ]
     },
     "metadata": {},
     "output_type": "display_data"
    },
    {
     "data": {
      "application/vnd.jupyter.widget-view+json": {
       "model_id": "a92b056cdabd4171a216d501865d11cf",
       "version_major": 2,
       "version_minor": 0
      },
      "text/plain": [
       "Generating batch_80 split:   0%|          | 0/20 [00:00<?, ? examples/s]"
      ]
     },
     "metadata": {},
     "output_type": "display_data"
    },
    {
     "data": {
      "application/vnd.jupyter.widget-view+json": {
       "model_id": "202e13e182cb4e35aa3175adfab90367",
       "version_major": 2,
       "version_minor": 0
      },
      "text/plain": [
       "Generating batch_39 split:   0%|          | 0/20 [00:00<?, ? examples/s]"
      ]
     },
     "metadata": {},
     "output_type": "display_data"
    },
    {
     "data": {
      "application/vnd.jupyter.widget-view+json": {
       "model_id": "5b7d29112bfc460a8a32abab9f371b94",
       "version_major": 2,
       "version_minor": 0
      },
      "text/plain": [
       "Generating batch_81 split:   0%|          | 0/20 [00:00<?, ? examples/s]"
      ]
     },
     "metadata": {},
     "output_type": "display_data"
    },
    {
     "data": {
      "application/vnd.jupyter.widget-view+json": {
       "model_id": "61ee6eb161d849ffa88cf8734a88e496",
       "version_major": 2,
       "version_minor": 0
      },
      "text/plain": [
       "Generating batch_40 split:   0%|          | 0/20 [00:00<?, ? examples/s]"
      ]
     },
     "metadata": {},
     "output_type": "display_data"
    },
    {
     "data": {
      "application/vnd.jupyter.widget-view+json": {
       "model_id": "0092f6f0c70941e2a9b27771190aa02c",
       "version_major": 2,
       "version_minor": 0
      },
      "text/plain": [
       "Generating batch_82 split:   0%|          | 0/20 [00:00<?, ? examples/s]"
      ]
     },
     "metadata": {},
     "output_type": "display_data"
    },
    {
     "data": {
      "application/vnd.jupyter.widget-view+json": {
       "model_id": "8066748ef56a425ba58f35dffc326ebb",
       "version_major": 2,
       "version_minor": 0
      },
      "text/plain": [
       "Generating batch_83 split:   0%|          | 0/20 [00:00<?, ? examples/s]"
      ]
     },
     "metadata": {},
     "output_type": "display_data"
    },
    {
     "data": {
      "application/vnd.jupyter.widget-view+json": {
       "model_id": "a546178ca7744355ae1d2a189c58c890",
       "version_major": 2,
       "version_minor": 0
      },
      "text/plain": [
       "Generating batch_84 split:   0%|          | 0/20 [00:00<?, ? examples/s]"
      ]
     },
     "metadata": {},
     "output_type": "display_data"
    },
    {
     "data": {
      "application/vnd.jupyter.widget-view+json": {
       "model_id": "95a9f4fd1d2347e5b12796f91d1fe3e4",
       "version_major": 2,
       "version_minor": 0
      },
      "text/plain": [
       "Generating batch_85 split:   0%|          | 0/20 [00:00<?, ? examples/s]"
      ]
     },
     "metadata": {},
     "output_type": "display_data"
    },
    {
     "data": {
      "application/vnd.jupyter.widget-view+json": {
       "model_id": "8135b489593e42a5a974d2b488b268c6",
       "version_major": 2,
       "version_minor": 0
      },
      "text/plain": [
       "Generating batch_86 split:   0%|          | 0/20 [00:00<?, ? examples/s]"
      ]
     },
     "metadata": {},
     "output_type": "display_data"
    },
    {
     "data": {
      "text/plain": [
       "Dataset({\n",
       "    features: ['post_id', 'title', 'top_comments', 'images', 'caption_gemma', 'caption_qwen'],\n",
       "    num_rows: 1740\n",
       "})"
      ]
     },
     "execution_count": 4,
     "metadata": {},
     "output_type": "execute_result"
    }
   ],
   "source": [
    "batched_dataset = load_dataset(\"SigLIP-forge/reddit-malelivingspace-captioned\")\n",
    "all_batches = [ds for name, ds in batched_dataset.items() if name.startswith(\"batch\")]\n",
    "dataset = concatenate_datasets(all_batches)\n",
    "dataset"
   ]
  },
  {
   "cell_type": "code",
   "execution_count": null,
   "id": "e51d9cb5",
   "metadata": {},
   "outputs": [],
   "source": [
    "device = \"cuda\" if torch.cuda.is_available() else \"cpu\"\n",
    "\n",
    "# --- Model + Tokenizer Names ---\n",
    "clip_name = \"openai/clip-vit-base-patch32\"\n",
    "llm_name = \"Qwen/Qwen2-0.5B-Instruct\"\n",
    "\n",
    "# --- Hyperparams ---\n",
    "batch_size = 20\n",
    "epochs = 5\n",
    "lr = 1e-4\n",
    "max_length = 100\n",
    "projected_seq_len = 1\n",
    "\n",
    "# --- Load Models ---\n",
    "clip_model = CLIPModel.from_pretrained(clip_name, device_map=\"auto\").eval().to(device)\n",
    "clip_processor = CLIPProcessor.from_pretrained(clip_name)\n",
    "\n",
    "llm = AutoModelForCausalLM.from_pretrained(llm_name, device_map=\"auto\").eval().to(device)\n",
    "\n",
    "tokenizer = AutoTokenizer.from_pretrained(llm_name)\n",
    "tokenizer.pad_token = tokenizer.eos_token\n",
    "\n",
    "# --- Projector ---\n",
    "class ClipProjector(nn.Module):\n",
    "    def __init__(self, in_dim=512, out_dim=768, seq_len=1):\n",
    "        super().__init__()\n",
    "        self.linear = nn.Linear(in_dim, out_dim * seq_len)\n",
    "        self.seq_len = seq_len\n",
    "        self.out_dim = out_dim\n",
    "\n",
    "    def forward(self, x):\n",
    "        x = self.linear(x)\n",
    "        return x.view(-1, self.seq_len, self.out_dim)\n",
    "\n",
    "projector = ClipProjector(in_dim=512, out_dim=llm.config.hidden_size, seq_len=projected_seq_len).to(device)\n",
    "optimizer = torch.optim.AdamW(projector.parameters(), lr=lr)\n",
    "loss_fn = nn.CrossEntropyLoss(ignore_index=tokenizer.pad_token_id)\n",
    "\n",
    "# --- Image transform (not strictly needed with CLIPProcessor, but you can control it) ---\n",
    "preprocess = transforms.Compose([\n",
    "    transforms.Resize((224, 224)),\n",
    "    transforms.ToTensor()\n",
    "])"
   ]
  },
  {
   "cell_type": "code",
   "execution_count": null,
   "id": "663ba489",
   "metadata": {},
   "outputs": [],
   "source": [
    "system_prompt = \"You are an expert interior designer assistant. Your task is to suggest suitable decor based on the inner design of a room described in a caption. The caption may include details about the room's layout, furniture, lighting, materials, colors, and style. Based on this information, provide thoughtful and visually harmonious decor suggestions that enhance the room's existing features. Be creative but practical, ensuring your suggestions match the overall theme and feel of the space.\"\n",
    "\n",
    "user_prompt = \"Here is a description of a room:\\n{caption}\\nWhat decor would you suggest to enhance this space?\""
   ]
  },
  {
   "cell_type": "code",
   "execution_count": 52,
   "id": "3e3e5647",
   "metadata": {},
   "outputs": [
    {
     "name": "stdout",
     "output_type": "stream",
     "text": [
      "[caption_gemma] Epoch 1: Loss = 3788.4507\n",
      "[caption_gemma] Epoch 2: Loss = 1976.2359\n",
      "[caption_gemma] Epoch 3: Loss = 836.9122\n",
      "[caption_gemma] Epoch 4: Loss = 362.6059\n",
      "[caption_gemma] Epoch 5: Loss = 209.9314\n",
      "[caption_qwen] Epoch 1: Loss = 148.0302\n",
      "[caption_qwen] Epoch 2: Loss = 113.8053\n",
      "[caption_qwen] Epoch 3: Loss = 94.9752\n",
      "[caption_qwen] Epoch 4: Loss = 84.3574\n",
      "[caption_qwen] Epoch 5: Loss = 71.2986\n"
     ]
    }
   ],
   "source": [
    "def compute_clip_embedding(images):\n",
    "    pil_images = [img.convert(\"RGB\") for img in images]\n",
    "    inputs = clip_processor(images=pil_images, return_tensors=\"pt\", padding=True).to(device)\n",
    "    with torch.no_grad():\n",
    "        img_feats = clip_model.get_image_features(**inputs)  # [n, 512]\n",
    "    return img_feats.mean(dim=0)  # [512]\n",
    "\n",
    "# --- Training function ---\n",
    "def train_on_caption(caption_key):\n",
    "    projector.train()\n",
    "    for epoch in range(epochs):\n",
    "        total_loss = 0\n",
    "        for example in dataset.shuffle():  # adjust range as needed\n",
    "            image_embed = compute_clip_embedding(example[\"images\"]).unsqueeze(0)  # [1, 512]\n",
    "            projected = projector(image_embed)  # [1, seq_len, hidden]\n",
    "            \n",
    "            caption = example[caption_key]\n",
    "            messages = [\n",
    "                {\n",
    "                    \"role\": \"system\", \n",
    "                    \"content\": system_prompt\n",
    "                }, \n",
    "                {\n",
    "                    \"role\": \"user\",\n",
    "                    \"content\": user_prompt.format(caption=caption)\n",
    "                }\n",
    "            ]\n",
    "            prompt = tokenizer.apply_chat_template(messages, tokenize=False)\n",
    "\n",
    "            cap_inputs = tokenizer(prompt, return_tensors=\"pt\", padding=True, truncation=True, max_length=max_length).to(device)\n",
    "            cap_input_ids = cap_inputs.input_ids\n",
    "            cap_labels = cap_input_ids.clone()\n",
    "\n",
    "            with torch.no_grad():\n",
    "                cap_embeds = llm.model.embed_tokens(cap_input_ids)\n",
    "\n",
    "            full_input = torch.cat([projected, cap_embeds], dim=1)\n",
    "            full_labels = torch.cat([\n",
    "                torch.full((1, projected_seq_len), -100).to(device),\n",
    "                cap_labels\n",
    "            ], dim=1)\n",
    "\n",
    "            outputs = llm(inputs_embeds=full_input, labels=full_labels)\n",
    "            loss = outputs.loss\n",
    "            loss.backward()\n",
    "            optimizer.step()\n",
    "            optimizer.zero_grad()\n",
    "            total_loss += loss.item()\n",
    "\n",
    "        print(f\"[{caption_key}] Epoch {epoch + 1}: Loss = {total_loss:.4f}\")\n",
    "\n",
    "train_on_caption(\"caption_gemma\")\n",
    "train_on_caption(\"caption_qwen\")"
   ]
  },
  {
   "cell_type": "code",
   "execution_count": null,
   "id": "b7005786",
   "metadata": {},
   "outputs": [],
   "source": [
    "class HuggingFaceProjector(PreTrainedModel):\n",
    "  config_class = PretrainedConfig\n",
    "\n",
    "  def __init__(self, config):\n",
    "    super().__init__(config)\n",
    "    self.projector = projector\n",
    "\n",
    "  def forward(self, *args, **kwargs):\n",
    "    return self.projector(*args, **kwargs)\n",
    "\n",
    "hf_projector = HuggingFaceProjector(PretrainedConfig())\n",
    "hf_projector.save_pretrained(\"/kaggle/working/clip_projector\")\n",
    "\n",
    "loaded_projector = HuggingFaceProjector.from_pretrained(\"/kaggle/working/clip_projector\")"
   ]
  },
  {
   "cell_type": "code",
   "execution_count": 63,
   "id": "9074a9aa",
   "metadata": {},
   "outputs": [
    {
     "data": {
      "application/vnd.jupyter.widget-view+json": {
       "model_id": "1fa36f5c3913435597f6bad1693ca1f7",
       "version_major": 2,
       "version_minor": 0
      },
      "text/plain": [
       "model.safetensors:   0%|          | 0.00/1.84M [00:00<?, ?B/s]"
      ]
     },
     "metadata": {},
     "output_type": "display_data"
    },
    {
     "data": {
      "application/vnd.jupyter.widget-view+json": {
       "model_id": "ae992bca57b74369b7965c44a5bf9421",
       "version_major": 2,
       "version_minor": 0
      },
      "text/plain": [
       "README.md:   0%|          | 0.00/5.17k [00:00<?, ?B/s]"
      ]
     },
     "metadata": {},
     "output_type": "display_data"
    },
    {
     "data": {
      "application/vnd.jupyter.widget-view+json": {
       "model_id": "821cd77a55894cf19f0ab81f076ee83e",
       "version_major": 2,
       "version_minor": 0
      },
      "text/plain": [
       "tokenizer.json:   0%|          | 0.00/11.4M [00:00<?, ?B/s]"
      ]
     },
     "metadata": {},
     "output_type": "display_data"
    },
    {
     "data": {
      "text/plain": [
       "CommitInfo(commit_url='https://huggingface.co/sameddallaa/clip-projector/commit/3ece1bf0ff37d579939e1b307cdb88bdaef0f725', commit_message='Upload tokenizer', commit_description='', oid='3ece1bf0ff37d579939e1b307cdb88bdaef0f725', pr_url=None, repo_url=RepoUrl('https://huggingface.co/sameddallaa/clip-projector', endpoint='https://huggingface.co', repo_type='model', repo_id='sameddallaa/clip-projector'), pr_revision=None, pr_num=None)"
      ]
     },
     "execution_count": 63,
     "metadata": {},
     "output_type": "execute_result"
    }
   ],
   "source": [
    "loaded_projector.push_to_hub(\"sameddallaa/clip-projector\")\n",
    "tokenizer.push_to_hub(\"sameddallaa/clip-projector\")"
   ]
  }
 ],
 "metadata": {
  "kernelspec": {
   "display_name": "Python 3 (ipykernel)",
   "language": "python",
   "name": "python3"
  },
  "language_info": {
   "codemirror_mode": {
    "name": "ipython",
    "version": 3
   },
   "file_extension": ".py",
   "mimetype": "text/x-python",
   "name": "python",
   "nbconvert_exporter": "python",
   "pygments_lexer": "ipython3",
   "version": "3.11.11"
  }
 },
 "nbformat": 4,
 "nbformat_minor": 5
}
