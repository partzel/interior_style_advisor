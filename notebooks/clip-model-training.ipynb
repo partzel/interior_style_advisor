{
 "cells": [
  {
   "cell_type": "code",
   "execution_count": 23,
   "id": "fe4a0f40",
   "metadata": {},
   "outputs": [],
   "source": [
    "import torch\n",
    "from PIL import Image\n",
    "from transformers import PreTrainedModel, PretrainedConfig\n",
    "from datasets import load_dataset, concatenate_datasets\n",
    "import torch\n",
    "import torch.nn as nn\n",
    "from torchvision import transforms\n",
    "from transformers import CLIPProcessor, CLIPModel, AutoTokenizer, AutoModelForCausalLM\n",
    "from huggingface_hub import upload_folder\n",
    "\n",
    "import matplotlib.pyplot as plt"
   ]
  },
  {
   "cell_type": "code",
   "execution_count": 2,
   "id": "c79e5d4c",
   "metadata": {},
   "outputs": [
    {
     "data": {
      "application/vnd.jupyter.widget-view+json": {
       "model_id": "d3a91d2d56db4b5a87e7f79d8812b0aa",
       "version_major": 2,
       "version_minor": 0
      },
      "text/plain": [
       "README.md:   0%|          | 0.00/10.1k [00:00<?, ?B/s]"
      ]
     },
     "metadata": {},
     "output_type": "display_data"
    },
    {
     "data": {
      "application/vnd.jupyter.widget-view+json": {
       "model_id": "d351da3b81464189bc6c682606357bb0",
       "version_major": 2,
       "version_minor": 0
      },
      "text/plain": [
       "batch_0-00000-of-00001.parquet:   0%|          | 0.00/18.7M [00:00<?, ?B/s]"
      ]
     },
     "metadata": {},
     "output_type": "display_data"
    },
    {
     "data": {
      "application/vnd.jupyter.widget-view+json": {
       "model_id": "58539522a3174feb9ac9679b5cebd332",
       "version_major": 2,
       "version_minor": 0
      },
      "text/plain": [
       "batch_41-00000-of-00001.parquet:   0%|          | 0.00/22.4M [00:00<?, ?B/s]"
      ]
     },
     "metadata": {},
     "output_type": "display_data"
    },
    {
     "data": {
      "application/vnd.jupyter.widget-view+json": {
       "model_id": "7d73d7d9f81746fd929b85fcc6fe099b",
       "version_major": 2,
       "version_minor": 0
      },
      "text/plain": [
       "batch_1-00000-of-00001.parquet:   0%|          | 0.00/17.9M [00:00<?, ?B/s]"
      ]
     },
     "metadata": {},
     "output_type": "display_data"
    },
    {
     "data": {
      "application/vnd.jupyter.widget-view+json": {
       "model_id": "215dc975c93f44e8a5f86cf3a7c3e0fb",
       "version_major": 2,
       "version_minor": 0
      },
      "text/plain": [
       "batch_42-00000-of-00001.parquet:   0%|          | 0.00/16.9M [00:00<?, ?B/s]"
      ]
     },
     "metadata": {},
     "output_type": "display_data"
    },
    {
     "data": {
      "application/vnd.jupyter.widget-view+json": {
       "model_id": "b235e8f1241b4493bd35af44f5c2fb42",
       "version_major": 2,
       "version_minor": 0
      },
      "text/plain": [
       "batch_2-00000-of-00001.parquet:   0%|          | 0.00/12.9M [00:00<?, ?B/s]"
      ]
     },
     "metadata": {},
     "output_type": "display_data"
    },
    {
     "data": {
      "application/vnd.jupyter.widget-view+json": {
       "model_id": "c8157efa954d41aa8ed1e689b186e25b",
       "version_major": 2,
       "version_minor": 0
      },
      "text/plain": [
       "batch_43-00000-of-00001.parquet:   0%|          | 0.00/12.1M [00:00<?, ?B/s]"
      ]
     },
     "metadata": {},
     "output_type": "display_data"
    },
    {
     "data": {
      "application/vnd.jupyter.widget-view+json": {
       "model_id": "99920348ca62497a8ae5e3ac6435e861",
       "version_major": 2,
       "version_minor": 0
      },
      "text/plain": [
       "batch_3-00000-of-00001.parquet:   0%|          | 0.00/16.1M [00:00<?, ?B/s]"
      ]
     },
     "metadata": {},
     "output_type": "display_data"
    },
    {
     "data": {
      "application/vnd.jupyter.widget-view+json": {
       "model_id": "681af78ee8684254aee08775c317b158",
       "version_major": 2,
       "version_minor": 0
      },
      "text/plain": [
       "batch_44-00000-of-00001.parquet:   0%|          | 0.00/12.2M [00:00<?, ?B/s]"
      ]
     },
     "metadata": {},
     "output_type": "display_data"
    },
    {
     "data": {
      "application/vnd.jupyter.widget-view+json": {
       "model_id": "6054e09e39ac4f1e9c97708447550f88",
       "version_major": 2,
       "version_minor": 0
      },
      "text/plain": [
       "batch_4-00000-of-00001.parquet:   0%|          | 0.00/16.0M [00:00<?, ?B/s]"
      ]
     },
     "metadata": {},
     "output_type": "display_data"
    },
    {
     "data": {
      "application/vnd.jupyter.widget-view+json": {
       "model_id": "c169c64d78ef4952a742180a977318f4",
       "version_major": 2,
       "version_minor": 0
      },
      "text/plain": [
       "batch_45-00000-of-00001.parquet:   0%|          | 0.00/11.1M [00:00<?, ?B/s]"
      ]
     },
     "metadata": {},
     "output_type": "display_data"
    },
    {
     "data": {
      "application/vnd.jupyter.widget-view+json": {
       "model_id": "d0667782789f49ef8e3e1e117bbcc475",
       "version_major": 2,
       "version_minor": 0
      },
      "text/plain": [
       "batch_5-00000-of-00001.parquet:   0%|          | 0.00/17.8M [00:00<?, ?B/s]"
      ]
     },
     "metadata": {},
     "output_type": "display_data"
    },
    {
     "data": {
      "application/vnd.jupyter.widget-view+json": {
       "model_id": "f2027ac66e554ec9b291a5401b58bfde",
       "version_major": 2,
       "version_minor": 0
      },
      "text/plain": [
       "batch_46-00000-of-00001.parquet:   0%|          | 0.00/12.6M [00:00<?, ?B/s]"
      ]
     },
     "metadata": {},
     "output_type": "display_data"
    },
    {
     "data": {
      "application/vnd.jupyter.widget-view+json": {
       "model_id": "271baab39da745e68793e64734efe2c6",
       "version_major": 2,
       "version_minor": 0
      },
      "text/plain": [
       "batch_6-00000-of-00001.parquet:   0%|          | 0.00/20.7M [00:00<?, ?B/s]"
      ]
     },
     "metadata": {},
     "output_type": "display_data"
    },
    {
     "data": {
      "application/vnd.jupyter.widget-view+json": {
       "model_id": "e517811073df4f12bf398c4fe2285824",
       "version_major": 2,
       "version_minor": 0
      },
      "text/plain": [
       "batch_47-00000-of-00001.parquet:   0%|          | 0.00/13.9M [00:00<?, ?B/s]"
      ]
     },
     "metadata": {},
     "output_type": "display_data"
    },
    {
     "data": {
      "application/vnd.jupyter.widget-view+json": {
       "model_id": "1c12baac25714969a60f68bc47dd122d",
       "version_major": 2,
       "version_minor": 0
      },
      "text/plain": [
       "batch_7-00000-of-00001.parquet:   0%|          | 0.00/22.9M [00:00<?, ?B/s]"
      ]
     },
     "metadata": {},
     "output_type": "display_data"
    },
    {
     "data": {
      "application/vnd.jupyter.widget-view+json": {
       "model_id": "72f08a549bd64905a9b64022d41277b5",
       "version_major": 2,
       "version_minor": 0
      },
      "text/plain": [
       "batch_48-00000-of-00001.parquet:   0%|          | 0.00/14.3M [00:00<?, ?B/s]"
      ]
     },
     "metadata": {},
     "output_type": "display_data"
    },
    {
     "data": {
      "application/vnd.jupyter.widget-view+json": {
       "model_id": "05c6ed073d1c44329f8c9cad9fe64f6c",
       "version_major": 2,
       "version_minor": 0
      },
      "text/plain": [
       "batch_8-00000-of-00001.parquet:   0%|          | 0.00/15.2M [00:00<?, ?B/s]"
      ]
     },
     "metadata": {},
     "output_type": "display_data"
    },
    {
     "data": {
      "application/vnd.jupyter.widget-view+json": {
       "model_id": "ae0aae61307a4054ae9e871ed17b1295",
       "version_major": 2,
       "version_minor": 0
      },
      "text/plain": [
       "batch_49-00000-of-00001.parquet:   0%|          | 0.00/11.1M [00:00<?, ?B/s]"
      ]
     },
     "metadata": {},
     "output_type": "display_data"
    },
    {
     "data": {
      "application/vnd.jupyter.widget-view+json": {
       "model_id": "e969ca9232e1432f954d7bcaaf1e3f88",
       "version_major": 2,
       "version_minor": 0
      },
      "text/plain": [
       "batch_9-00000-of-00001.parquet:   0%|          | 0.00/15.3M [00:00<?, ?B/s]"
      ]
     },
     "metadata": {},
     "output_type": "display_data"
    },
    {
     "data": {
      "application/vnd.jupyter.widget-view+json": {
       "model_id": "5a40ef3c4d9d4ced88c03ddfa008d81b",
       "version_major": 2,
       "version_minor": 0
      },
      "text/plain": [
       "batch_50-00000-of-00001.parquet:   0%|          | 0.00/18.0M [00:00<?, ?B/s]"
      ]
     },
     "metadata": {},
     "output_type": "display_data"
    },
    {
     "data": {
      "application/vnd.jupyter.widget-view+json": {
       "model_id": "138dc225de3149b38e01e6dcd8241aae",
       "version_major": 2,
       "version_minor": 0
      },
      "text/plain": [
       "batch_10-00000-of-00001.parquet:   0%|          | 0.00/16.4M [00:00<?, ?B/s]"
      ]
     },
     "metadata": {},
     "output_type": "display_data"
    },
    {
     "data": {
      "application/vnd.jupyter.widget-view+json": {
       "model_id": "6e5fa3c6cc3a4141a1cc80ec2f96bf63",
       "version_major": 2,
       "version_minor": 0
      },
      "text/plain": [
       "batch_51-00000-of-00001.parquet:   0%|          | 0.00/10.7M [00:00<?, ?B/s]"
      ]
     },
     "metadata": {},
     "output_type": "display_data"
    },
    {
     "data": {
      "application/vnd.jupyter.widget-view+json": {
       "model_id": "e69b3a3dce2a4df2b6d900e83a86e4a5",
       "version_major": 2,
       "version_minor": 0
      },
      "text/plain": [
       "batch_11-00000-of-00001.parquet:   0%|          | 0.00/15.2M [00:00<?, ?B/s]"
      ]
     },
     "metadata": {},
     "output_type": "display_data"
    },
    {
     "data": {
      "application/vnd.jupyter.widget-view+json": {
       "model_id": "cacb7a87f97d42c6b3c137b7e0b5472e",
       "version_major": 2,
       "version_minor": 0
      },
      "text/plain": [
       "batch_52-00000-of-00001.parquet:   0%|          | 0.00/8.71M [00:00<?, ?B/s]"
      ]
     },
     "metadata": {},
     "output_type": "display_data"
    },
    {
     "data": {
      "application/vnd.jupyter.widget-view+json": {
       "model_id": "2f9809c21c86433eb922ba1b8b9ebe08",
       "version_major": 2,
       "version_minor": 0
      },
      "text/plain": [
       "batch_12-00000-of-00001.parquet:   0%|          | 0.00/14.5M [00:00<?, ?B/s]"
      ]
     },
     "metadata": {},
     "output_type": "display_data"
    },
    {
     "data": {
      "application/vnd.jupyter.widget-view+json": {
       "model_id": "ed69d80bb70943cfa81e24f62d26047e",
       "version_major": 2,
       "version_minor": 0
      },
      "text/plain": [
       "batch_53-00000-of-00001.parquet:   0%|          | 0.00/12.5M [00:00<?, ?B/s]"
      ]
     },
     "metadata": {},
     "output_type": "display_data"
    },
    {
     "data": {
      "application/vnd.jupyter.widget-view+json": {
       "model_id": "30758c07d52e44a3b735669ccc667278",
       "version_major": 2,
       "version_minor": 0
      },
      "text/plain": [
       "batch_13-00000-of-00001.parquet:   0%|          | 0.00/15.4M [00:00<?, ?B/s]"
      ]
     },
     "metadata": {},
     "output_type": "display_data"
    },
    {
     "data": {
      "application/vnd.jupyter.widget-view+json": {
       "model_id": "96e326a3e940459b8c31eccf87b7e84a",
       "version_major": 2,
       "version_minor": 0
      },
      "text/plain": [
       "batch_54-00000-of-00001.parquet:   0%|          | 0.00/12.2M [00:00<?, ?B/s]"
      ]
     },
     "metadata": {},
     "output_type": "display_data"
    },
    {
     "data": {
      "application/vnd.jupyter.widget-view+json": {
       "model_id": "f97b5d963c6e461bacd723b148bb890d",
       "version_major": 2,
       "version_minor": 0
      },
      "text/plain": [
       "batch_14-00000-of-00001.parquet:   0%|          | 0.00/14.3M [00:00<?, ?B/s]"
      ]
     },
     "metadata": {},
     "output_type": "display_data"
    },
    {
     "data": {
      "application/vnd.jupyter.widget-view+json": {
       "model_id": "f3df3338913a4a7a94ac0cfbfb3078b9",
       "version_major": 2,
       "version_minor": 0
      },
      "text/plain": [
       "batch_55-00000-of-00001.parquet:   0%|          | 0.00/15.1M [00:00<?, ?B/s]"
      ]
     },
     "metadata": {},
     "output_type": "display_data"
    },
    {
     "data": {
      "application/vnd.jupyter.widget-view+json": {
       "model_id": "8721e6d011db48218bdf2807ca0a9cf1",
       "version_major": 2,
       "version_minor": 0
      },
      "text/plain": [
       "batch_15-00000-of-00001.parquet:   0%|          | 0.00/21.2M [00:00<?, ?B/s]"
      ]
     },
     "metadata": {},
     "output_type": "display_data"
    },
    {
     "data": {
      "application/vnd.jupyter.widget-view+json": {
       "model_id": "8e2ab56a5b7b4a4ab35bac18f96e8ae1",
       "version_major": 2,
       "version_minor": 0
      },
      "text/plain": [
       "batch_56-00000-of-00001.parquet:   0%|          | 0.00/10.4M [00:00<?, ?B/s]"
      ]
     },
     "metadata": {},
     "output_type": "display_data"
    },
    {
     "data": {
      "application/vnd.jupyter.widget-view+json": {
       "model_id": "df5f77d77ab143e6badded6cb2ca12d3",
       "version_major": 2,
       "version_minor": 0
      },
      "text/plain": [
       "batch_16-00000-of-00001.parquet:   0%|          | 0.00/17.3M [00:00<?, ?B/s]"
      ]
     },
     "metadata": {},
     "output_type": "display_data"
    },
    {
     "data": {
      "application/vnd.jupyter.widget-view+json": {
       "model_id": "9321f3fb4a8341b5be26f7300db2b64c",
       "version_major": 2,
       "version_minor": 0
      },
      "text/plain": [
       "batch_57-00000-of-00001.parquet:   0%|          | 0.00/13.6M [00:00<?, ?B/s]"
      ]
     },
     "metadata": {},
     "output_type": "display_data"
    },
    {
     "data": {
      "application/vnd.jupyter.widget-view+json": {
       "model_id": "a14c640f97314743a395ee037db03f03",
       "version_major": 2,
       "version_minor": 0
      },
      "text/plain": [
       "batch_17-00000-of-00001.parquet:   0%|          | 0.00/15.3M [00:00<?, ?B/s]"
      ]
     },
     "metadata": {},
     "output_type": "display_data"
    },
    {
     "data": {
      "application/vnd.jupyter.widget-view+json": {
       "model_id": "1a642d3364094a1abbf71668f5ef08b1",
       "version_major": 2,
       "version_minor": 0
      },
      "text/plain": [
       "batch_58-00000-of-00001.parquet:   0%|          | 0.00/13.5M [00:00<?, ?B/s]"
      ]
     },
     "metadata": {},
     "output_type": "display_data"
    },
    {
     "data": {
      "application/vnd.jupyter.widget-view+json": {
       "model_id": "a3d28332ebbc40049a1cd5e949d540c7",
       "version_major": 2,
       "version_minor": 0
      },
      "text/plain": [
       "batch_18-00000-of-00001.parquet:   0%|          | 0.00/15.5M [00:00<?, ?B/s]"
      ]
     },
     "metadata": {},
     "output_type": "display_data"
    },
    {
     "data": {
      "application/vnd.jupyter.widget-view+json": {
       "model_id": "21254874cd8843519877759a872b852e",
       "version_major": 2,
       "version_minor": 0
      },
      "text/plain": [
       "batch_59-00000-of-00001.parquet:   0%|          | 0.00/13.8M [00:00<?, ?B/s]"
      ]
     },
     "metadata": {},
     "output_type": "display_data"
    },
    {
     "data": {
      "application/vnd.jupyter.widget-view+json": {
       "model_id": "1c4d2ac7d8af4c7cbf5cc5f9e1c2ff4a",
       "version_major": 2,
       "version_minor": 0
      },
      "text/plain": [
       "batch_19-00000-of-00001.parquet:   0%|          | 0.00/17.9M [00:00<?, ?B/s]"
      ]
     },
     "metadata": {},
     "output_type": "display_data"
    },
    {
     "data": {
      "application/vnd.jupyter.widget-view+json": {
       "model_id": "c5d8c7d9f5684393a7c134d07f3adec7",
       "version_major": 2,
       "version_minor": 0
      },
      "text/plain": [
       "batch_60-00000-of-00001.parquet:   0%|          | 0.00/12.6M [00:00<?, ?B/s]"
      ]
     },
     "metadata": {},
     "output_type": "display_data"
    },
    {
     "data": {
      "application/vnd.jupyter.widget-view+json": {
       "model_id": "5f253f827c5c4852a47b452f3ebebc50",
       "version_major": 2,
       "version_minor": 0
      },
      "text/plain": [
       "batch_20-00000-of-00001.parquet:   0%|          | 0.00/22.9M [00:00<?, ?B/s]"
      ]
     },
     "metadata": {},
     "output_type": "display_data"
    },
    {
     "data": {
      "application/vnd.jupyter.widget-view+json": {
       "model_id": "3438c098ea9442ca998802278d5d76fd",
       "version_major": 2,
       "version_minor": 0
      },
      "text/plain": [
       "batch_61-00000-of-00001.parquet:   0%|          | 0.00/12.2M [00:00<?, ?B/s]"
      ]
     },
     "metadata": {},
     "output_type": "display_data"
    },
    {
     "data": {
      "application/vnd.jupyter.widget-view+json": {
       "model_id": "b695b1c7e6a549e59aa9cb7a23cbf4e0",
       "version_major": 2,
       "version_minor": 0
      },
      "text/plain": [
       "batch_21-00000-of-00001.parquet:   0%|          | 0.00/20.6M [00:00<?, ?B/s]"
      ]
     },
     "metadata": {},
     "output_type": "display_data"
    },
    {
     "data": {
      "application/vnd.jupyter.widget-view+json": {
       "model_id": "11cb65128cf74891b55288b4704b3ff0",
       "version_major": 2,
       "version_minor": 0
      },
      "text/plain": [
       "batch_62-00000-of-00001.parquet:   0%|          | 0.00/13.9M [00:00<?, ?B/s]"
      ]
     },
     "metadata": {},
     "output_type": "display_data"
    },
    {
     "data": {
      "application/vnd.jupyter.widget-view+json": {
       "model_id": "1b12447b98b54644ae8c16f631a42961",
       "version_major": 2,
       "version_minor": 0
      },
      "text/plain": [
       "batch_63-00000-of-00001.parquet:   0%|          | 0.00/11.9M [00:00<?, ?B/s]"
      ]
     },
     "metadata": {},
     "output_type": "display_data"
    },
    {
     "data": {
      "application/vnd.jupyter.widget-view+json": {
       "model_id": "a037d300caba49568d3a6590317e6922",
       "version_major": 2,
       "version_minor": 0
      },
      "text/plain": [
       "batch_22-00000-of-00001.parquet:   0%|          | 0.00/18.1M [00:00<?, ?B/s]"
      ]
     },
     "metadata": {},
     "output_type": "display_data"
    },
    {
     "data": {
      "application/vnd.jupyter.widget-view+json": {
       "model_id": "0d60c83422254188b4616334e1ae7975",
       "version_major": 2,
       "version_minor": 0
      },
      "text/plain": [
       "batch_64-00000-of-00001.parquet:   0%|          | 0.00/10.5M [00:00<?, ?B/s]"
      ]
     },
     "metadata": {},
     "output_type": "display_data"
    },
    {
     "data": {
      "application/vnd.jupyter.widget-view+json": {
       "model_id": "f3eead63493e4a708a814910d4661220",
       "version_major": 2,
       "version_minor": 0
      },
      "text/plain": [
       "batch_23-00000-of-00001.parquet:   0%|          | 0.00/15.0M [00:00<?, ?B/s]"
      ]
     },
     "metadata": {},
     "output_type": "display_data"
    },
    {
     "data": {
      "application/vnd.jupyter.widget-view+json": {
       "model_id": "a38f0d461adf4acda401d9d287f347ed",
       "version_major": 2,
       "version_minor": 0
      },
      "text/plain": [
       "batch_65-00000-of-00001.parquet:   0%|          | 0.00/13.5M [00:00<?, ?B/s]"
      ]
     },
     "metadata": {},
     "output_type": "display_data"
    },
    {
     "data": {
      "application/vnd.jupyter.widget-view+json": {
       "model_id": "cf1cf08c5e17401fa9ef876a96515c61",
       "version_major": 2,
       "version_minor": 0
      },
      "text/plain": [
       "batch_24-00000-of-00001.parquet:   0%|          | 0.00/22.5M [00:00<?, ?B/s]"
      ]
     },
     "metadata": {},
     "output_type": "display_data"
    },
    {
     "data": {
      "application/vnd.jupyter.widget-view+json": {
       "model_id": "1a7d12562fb44333ad1bf4e4933d96f1",
       "version_major": 2,
       "version_minor": 0
      },
      "text/plain": [
       "batch_66-00000-of-00001.parquet:   0%|          | 0.00/11.9M [00:00<?, ?B/s]"
      ]
     },
     "metadata": {},
     "output_type": "display_data"
    },
    {
     "data": {
      "application/vnd.jupyter.widget-view+json": {
       "model_id": "2d94d9e404e84e6fab6884e2e0b7a0c3",
       "version_major": 2,
       "version_minor": 0
      },
      "text/plain": [
       "batch_25-00000-of-00001.parquet:   0%|          | 0.00/17.4M [00:00<?, ?B/s]"
      ]
     },
     "metadata": {},
     "output_type": "display_data"
    },
    {
     "data": {
      "application/vnd.jupyter.widget-view+json": {
       "model_id": "19e108df7c4d4aee97e6fd2412ea3032",
       "version_major": 2,
       "version_minor": 0
      },
      "text/plain": [
       "batch_67-00000-of-00001.parquet:   0%|          | 0.00/13.4M [00:00<?, ?B/s]"
      ]
     },
     "metadata": {},
     "output_type": "display_data"
    },
    {
     "data": {
      "application/vnd.jupyter.widget-view+json": {
       "model_id": "7142cd2e5ca048f8b6ad21df60aa2fbc",
       "version_major": 2,
       "version_minor": 0
      },
      "text/plain": [
       "batch_26-00000-of-00001.parquet:   0%|          | 0.00/15.5M [00:00<?, ?B/s]"
      ]
     },
     "metadata": {},
     "output_type": "display_data"
    },
    {
     "data": {
      "application/vnd.jupyter.widget-view+json": {
       "model_id": "0d3d84e9592f4124911aab31eed5cd0f",
       "version_major": 2,
       "version_minor": 0
      },
      "text/plain": [
       "batch_68-00000-of-00001.parquet:   0%|          | 0.00/9.50M [00:00<?, ?B/s]"
      ]
     },
     "metadata": {},
     "output_type": "display_data"
    },
    {
     "data": {
      "application/vnd.jupyter.widget-view+json": {
       "model_id": "554bdd95abe44559889c2197669841be",
       "version_major": 2,
       "version_minor": 0
      },
      "text/plain": [
       "batch_27-00000-of-00001.parquet:   0%|          | 0.00/15.4M [00:00<?, ?B/s]"
      ]
     },
     "metadata": {},
     "output_type": "display_data"
    },
    {
     "data": {
      "application/vnd.jupyter.widget-view+json": {
       "model_id": "75eb5da2aa8f4645af4022f5806a32b9",
       "version_major": 2,
       "version_minor": 0
      },
      "text/plain": [
       "batch_69-00000-of-00001.parquet:   0%|          | 0.00/10.8M [00:00<?, ?B/s]"
      ]
     },
     "metadata": {},
     "output_type": "display_data"
    },
    {
     "data": {
      "application/vnd.jupyter.widget-view+json": {
       "model_id": "09b1f73c92db4f91970fb8e87f4cbf4e",
       "version_major": 2,
       "version_minor": 0
      },
      "text/plain": [
       "batch_28-00000-of-00001.parquet:   0%|          | 0.00/27.2M [00:00<?, ?B/s]"
      ]
     },
     "metadata": {},
     "output_type": "display_data"
    },
    {
     "data": {
      "application/vnd.jupyter.widget-view+json": {
       "model_id": "ba60510df4d7455e958d493c9741d842",
       "version_major": 2,
       "version_minor": 0
      },
      "text/plain": [
       "batch_70-00000-of-00001.parquet:   0%|          | 0.00/13.7M [00:00<?, ?B/s]"
      ]
     },
     "metadata": {},
     "output_type": "display_data"
    },
    {
     "data": {
      "application/vnd.jupyter.widget-view+json": {
       "model_id": "25ea19792c27427da2c345db29a5231c",
       "version_major": 2,
       "version_minor": 0
      },
      "text/plain": [
       "batch_29-00000-of-00001.parquet:   0%|          | 0.00/13.4M [00:00<?, ?B/s]"
      ]
     },
     "metadata": {},
     "output_type": "display_data"
    },
    {
     "data": {
      "application/vnd.jupyter.widget-view+json": {
       "model_id": "f75da37eb9b34b5282d79b4451002ae7",
       "version_major": 2,
       "version_minor": 0
      },
      "text/plain": [
       "batch_71-00000-of-00001.parquet:   0%|          | 0.00/10.2M [00:00<?, ?B/s]"
      ]
     },
     "metadata": {},
     "output_type": "display_data"
    },
    {
     "data": {
      "application/vnd.jupyter.widget-view+json": {
       "model_id": "4641527038dd41518be728b95be2ab22",
       "version_major": 2,
       "version_minor": 0
      },
      "text/plain": [
       "batch_30-00000-of-00001.parquet:   0%|          | 0.00/19.6M [00:00<?, ?B/s]"
      ]
     },
     "metadata": {},
     "output_type": "display_data"
    },
    {
     "data": {
      "application/vnd.jupyter.widget-view+json": {
       "model_id": "e054ed005b324d11aaceb89b621f648f",
       "version_major": 2,
       "version_minor": 0
      },
      "text/plain": [
       "batch_72-00000-of-00001.parquet:   0%|          | 0.00/15.6M [00:00<?, ?B/s]"
      ]
     },
     "metadata": {},
     "output_type": "display_data"
    },
    {
     "data": {
      "application/vnd.jupyter.widget-view+json": {
       "model_id": "58669b481eae4a2da02f5c9e0b79b2d2",
       "version_major": 2,
       "version_minor": 0
      },
      "text/plain": [
       "batch_31-00000-of-00001.parquet:   0%|          | 0.00/23.2M [00:00<?, ?B/s]"
      ]
     },
     "metadata": {},
     "output_type": "display_data"
    },
    {
     "data": {
      "application/vnd.jupyter.widget-view+json": {
       "model_id": "3855cd832ec14d6e8c7277199aca01fa",
       "version_major": 2,
       "version_minor": 0
      },
      "text/plain": [
       "batch_73-00000-of-00001.parquet:   0%|          | 0.00/14.6M [00:00<?, ?B/s]"
      ]
     },
     "metadata": {},
     "output_type": "display_data"
    },
    {
     "data": {
      "application/vnd.jupyter.widget-view+json": {
       "model_id": "1e0da4d937174bd3a8375acf0da34245",
       "version_major": 2,
       "version_minor": 0
      },
      "text/plain": [
       "batch_32-00000-of-00001.parquet:   0%|          | 0.00/17.7M [00:00<?, ?B/s]"
      ]
     },
     "metadata": {},
     "output_type": "display_data"
    },
    {
     "data": {
      "application/vnd.jupyter.widget-view+json": {
       "model_id": "c9ed239d08ce4a9fb87d238d0392aff5",
       "version_major": 2,
       "version_minor": 0
      },
      "text/plain": [
       "batch_74-00000-of-00001.parquet:   0%|          | 0.00/10.3M [00:00<?, ?B/s]"
      ]
     },
     "metadata": {},
     "output_type": "display_data"
    },
    {
     "data": {
      "application/vnd.jupyter.widget-view+json": {
       "model_id": "89ae6adce5134a138e6f69a4ebc95f6f",
       "version_major": 2,
       "version_minor": 0
      },
      "text/plain": [
       "batch_33-00000-of-00001.parquet:   0%|          | 0.00/25.0M [00:00<?, ?B/s]"
      ]
     },
     "metadata": {},
     "output_type": "display_data"
    },
    {
     "data": {
      "application/vnd.jupyter.widget-view+json": {
       "model_id": "0a32521539a545398bebfe2fdfe7440c",
       "version_major": 2,
       "version_minor": 0
      },
      "text/plain": [
       "batch_75-00000-of-00001.parquet:   0%|          | 0.00/11.5M [00:00<?, ?B/s]"
      ]
     },
     "metadata": {},
     "output_type": "display_data"
    },
    {
     "data": {
      "application/vnd.jupyter.widget-view+json": {
       "model_id": "dd981175f9154d94889270cc4ea41863",
       "version_major": 2,
       "version_minor": 0
      },
      "text/plain": [
       "batch_34-00000-of-00001.parquet:   0%|          | 0.00/20.0M [00:00<?, ?B/s]"
      ]
     },
     "metadata": {},
     "output_type": "display_data"
    },
    {
     "data": {
      "application/vnd.jupyter.widget-view+json": {
       "model_id": "43fad9f9563a45649db3a47db8b9c0d1",
       "version_major": 2,
       "version_minor": 0
      },
      "text/plain": [
       "batch_76-00000-of-00001.parquet:   0%|          | 0.00/11.2M [00:00<?, ?B/s]"
      ]
     },
     "metadata": {},
     "output_type": "display_data"
    },
    {
     "data": {
      "application/vnd.jupyter.widget-view+json": {
       "model_id": "9bc5cec01a2e45e5b78817904866e65f",
       "version_major": 2,
       "version_minor": 0
      },
      "text/plain": [
       "batch_35-00000-of-00001.parquet:   0%|          | 0.00/17.8M [00:00<?, ?B/s]"
      ]
     },
     "metadata": {},
     "output_type": "display_data"
    },
    {
     "data": {
      "application/vnd.jupyter.widget-view+json": {
       "model_id": "992a392c454a4e109a1f644483d2cfbb",
       "version_major": 2,
       "version_minor": 0
      },
      "text/plain": [
       "batch_77-00000-of-00001.parquet:   0%|          | 0.00/12.8M [00:00<?, ?B/s]"
      ]
     },
     "metadata": {},
     "output_type": "display_data"
    },
    {
     "data": {
      "application/vnd.jupyter.widget-view+json": {
       "model_id": "256f0a7f8825487ca63a57a76f6396fd",
       "version_major": 2,
       "version_minor": 0
      },
      "text/plain": [
       "batch_36-00000-of-00001.parquet:   0%|          | 0.00/19.6M [00:00<?, ?B/s]"
      ]
     },
     "metadata": {},
     "output_type": "display_data"
    },
    {
     "data": {
      "application/vnd.jupyter.widget-view+json": {
       "model_id": "b0af2c994c3a4681ad4363dd2ed6fab5",
       "version_major": 2,
       "version_minor": 0
      },
      "text/plain": [
       "batch_78-00000-of-00001.parquet:   0%|          | 0.00/12.3M [00:00<?, ?B/s]"
      ]
     },
     "metadata": {},
     "output_type": "display_data"
    },
    {
     "data": {
      "application/vnd.jupyter.widget-view+json": {
       "model_id": "5bae40ffe4204e65b60cc3ba1bfef6c6",
       "version_major": 2,
       "version_minor": 0
      },
      "text/plain": [
       "batch_37-00000-of-00001.parquet:   0%|          | 0.00/19.3M [00:00<?, ?B/s]"
      ]
     },
     "metadata": {},
     "output_type": "display_data"
    },
    {
     "data": {
      "application/vnd.jupyter.widget-view+json": {
       "model_id": "c56dd09df9074437a908b17acf0205d6",
       "version_major": 2,
       "version_minor": 0
      },
      "text/plain": [
       "batch_79-00000-of-00001.parquet:   0%|          | 0.00/14.9M [00:00<?, ?B/s]"
      ]
     },
     "metadata": {},
     "output_type": "display_data"
    },
    {
     "data": {
      "application/vnd.jupyter.widget-view+json": {
       "model_id": "8f1c16c7008d43878e0fd1c6c50dda62",
       "version_major": 2,
       "version_minor": 0
      },
      "text/plain": [
       "batch_38-00000-of-00001.parquet:   0%|          | 0.00/16.7M [00:00<?, ?B/s]"
      ]
     },
     "metadata": {},
     "output_type": "display_data"
    },
    {
     "data": {
      "application/vnd.jupyter.widget-view+json": {
       "model_id": "2e1439b5fb1c496b8bf7722c42a5c7e7",
       "version_major": 2,
       "version_minor": 0
      },
      "text/plain": [
       "batch_80-00000-of-00001.parquet:   0%|          | 0.00/17.5M [00:00<?, ?B/s]"
      ]
     },
     "metadata": {},
     "output_type": "display_data"
    },
    {
     "data": {
      "application/vnd.jupyter.widget-view+json": {
       "model_id": "a806df12cc77429ba50a2a0e5a4a60cc",
       "version_major": 2,
       "version_minor": 0
      },
      "text/plain": [
       "batch_39-00000-of-00001.parquet:   0%|          | 0.00/19.2M [00:00<?, ?B/s]"
      ]
     },
     "metadata": {},
     "output_type": "display_data"
    },
    {
     "data": {
      "application/vnd.jupyter.widget-view+json": {
       "model_id": "9c862f840b9b4d608ca716b150524d6b",
       "version_major": 2,
       "version_minor": 0
      },
      "text/plain": [
       "batch_81-00000-of-00001.parquet:   0%|          | 0.00/12.7M [00:00<?, ?B/s]"
      ]
     },
     "metadata": {},
     "output_type": "display_data"
    },
    {
     "data": {
      "application/vnd.jupyter.widget-view+json": {
       "model_id": "2545a82d97414382a4b3aeb84f36fe48",
       "version_major": 2,
       "version_minor": 0
      },
      "text/plain": [
       "batch_40-00000-of-00001.parquet:   0%|          | 0.00/16.6M [00:00<?, ?B/s]"
      ]
     },
     "metadata": {},
     "output_type": "display_data"
    },
    {
     "data": {
      "application/vnd.jupyter.widget-view+json": {
       "model_id": "95e893e497c04876a26e822371a6cdb4",
       "version_major": 2,
       "version_minor": 0
      },
      "text/plain": [
       "batch_82-00000-of-00001.parquet:   0%|          | 0.00/9.37M [00:00<?, ?B/s]"
      ]
     },
     "metadata": {},
     "output_type": "display_data"
    },
    {
     "data": {
      "application/vnd.jupyter.widget-view+json": {
       "model_id": "0e5737961a724189a381d71c25fdc8a2",
       "version_major": 2,
       "version_minor": 0
      },
      "text/plain": [
       "batch_83-00000-of-00001.parquet:   0%|          | 0.00/18.2M [00:00<?, ?B/s]"
      ]
     },
     "metadata": {},
     "output_type": "display_data"
    },
    {
     "data": {
      "application/vnd.jupyter.widget-view+json": {
       "model_id": "f776a5752f104aadb51f0097b60b1ff5",
       "version_major": 2,
       "version_minor": 0
      },
      "text/plain": [
       "batch_84-00000-of-00001.parquet:   0%|          | 0.00/16.6M [00:00<?, ?B/s]"
      ]
     },
     "metadata": {},
     "output_type": "display_data"
    },
    {
     "data": {
      "application/vnd.jupyter.widget-view+json": {
       "model_id": "6f50aba190ef424ebf2f8a6f469fdc75",
       "version_major": 2,
       "version_minor": 0
      },
      "text/plain": [
       "batch_85-00000-of-00001.parquet:   0%|          | 0.00/15.2M [00:00<?, ?B/s]"
      ]
     },
     "metadata": {},
     "output_type": "display_data"
    },
    {
     "data": {
      "application/vnd.jupyter.widget-view+json": {
       "model_id": "e778358679724458830b7cd3d7f307e2",
       "version_major": 2,
       "version_minor": 0
      },
      "text/plain": [
       "batch_86-00000-of-00001.parquet:   0%|          | 0.00/11.0M [00:00<?, ?B/s]"
      ]
     },
     "metadata": {},
     "output_type": "display_data"
    },
    {
     "data": {
      "application/vnd.jupyter.widget-view+json": {
       "model_id": "9f87a6c7b204466dbe18d9642efa0635",
       "version_major": 2,
       "version_minor": 0
      },
      "text/plain": [
       "Generating batch_0 split:   0%|          | 0/20 [00:00<?, ? examples/s]"
      ]
     },
     "metadata": {},
     "output_type": "display_data"
    },
    {
     "data": {
      "application/vnd.jupyter.widget-view+json": {
       "model_id": "3fc7bbbcfb5445759691d2465a8b6a38",
       "version_major": 2,
       "version_minor": 0
      },
      "text/plain": [
       "Generating batch_41 split:   0%|          | 0/20 [00:00<?, ? examples/s]"
      ]
     },
     "metadata": {},
     "output_type": "display_data"
    },
    {
     "data": {
      "application/vnd.jupyter.widget-view+json": {
       "model_id": "d49de88215694f8abab752117a210e2e",
       "version_major": 2,
       "version_minor": 0
      },
      "text/plain": [
       "Generating batch_1 split:   0%|          | 0/20 [00:00<?, ? examples/s]"
      ]
     },
     "metadata": {},
     "output_type": "display_data"
    },
    {
     "data": {
      "application/vnd.jupyter.widget-view+json": {
       "model_id": "b74dc57036de41d38f76223fe37448fd",
       "version_major": 2,
       "version_minor": 0
      },
      "text/plain": [
       "Generating batch_42 split:   0%|          | 0/20 [00:00<?, ? examples/s]"
      ]
     },
     "metadata": {},
     "output_type": "display_data"
    },
    {
     "data": {
      "application/vnd.jupyter.widget-view+json": {
       "model_id": "c4fd55a701e148f4a1a0648d6f691279",
       "version_major": 2,
       "version_minor": 0
      },
      "text/plain": [
       "Generating batch_2 split:   0%|          | 0/20 [00:00<?, ? examples/s]"
      ]
     },
     "metadata": {},
     "output_type": "display_data"
    },
    {
     "data": {
      "application/vnd.jupyter.widget-view+json": {
       "model_id": "7db936f3288445d29aef1118f4a1d70f",
       "version_major": 2,
       "version_minor": 0
      },
      "text/plain": [
       "Generating batch_43 split:   0%|          | 0/20 [00:00<?, ? examples/s]"
      ]
     },
     "metadata": {},
     "output_type": "display_data"
    },
    {
     "data": {
      "application/vnd.jupyter.widget-view+json": {
       "model_id": "08960462a158440dae86a480b1d75311",
       "version_major": 2,
       "version_minor": 0
      },
      "text/plain": [
       "Generating batch_3 split:   0%|          | 0/20 [00:00<?, ? examples/s]"
      ]
     },
     "metadata": {},
     "output_type": "display_data"
    },
    {
     "data": {
      "application/vnd.jupyter.widget-view+json": {
       "model_id": "0f2282a630b240808d9ce1b91e466d65",
       "version_major": 2,
       "version_minor": 0
      },
      "text/plain": [
       "Generating batch_44 split:   0%|          | 0/20 [00:00<?, ? examples/s]"
      ]
     },
     "metadata": {},
     "output_type": "display_data"
    },
    {
     "data": {
      "application/vnd.jupyter.widget-view+json": {
       "model_id": "4152ffa57b824611bcb5096fec8ec639",
       "version_major": 2,
       "version_minor": 0
      },
      "text/plain": [
       "Generating batch_4 split:   0%|          | 0/20 [00:00<?, ? examples/s]"
      ]
     },
     "metadata": {},
     "output_type": "display_data"
    },
    {
     "data": {
      "application/vnd.jupyter.widget-view+json": {
       "model_id": "873e3405b79e4189ab21170a4c541d32",
       "version_major": 2,
       "version_minor": 0
      },
      "text/plain": [
       "Generating batch_45 split:   0%|          | 0/20 [00:00<?, ? examples/s]"
      ]
     },
     "metadata": {},
     "output_type": "display_data"
    },
    {
     "data": {
      "application/vnd.jupyter.widget-view+json": {
       "model_id": "3b280a13d9594214b519b77634c8e1bd",
       "version_major": 2,
       "version_minor": 0
      },
      "text/plain": [
       "Generating batch_5 split:   0%|          | 0/20 [00:00<?, ? examples/s]"
      ]
     },
     "metadata": {},
     "output_type": "display_data"
    },
    {
     "data": {
      "application/vnd.jupyter.widget-view+json": {
       "model_id": "7508a78a67874dfea54f802cde3d523a",
       "version_major": 2,
       "version_minor": 0
      },
      "text/plain": [
       "Generating batch_46 split:   0%|          | 0/20 [00:00<?, ? examples/s]"
      ]
     },
     "metadata": {},
     "output_type": "display_data"
    },
    {
     "data": {
      "application/vnd.jupyter.widget-view+json": {
       "model_id": "8b973b1572194cfab04dcd9815dac3bd",
       "version_major": 2,
       "version_minor": 0
      },
      "text/plain": [
       "Generating batch_6 split:   0%|          | 0/20 [00:00<?, ? examples/s]"
      ]
     },
     "metadata": {},
     "output_type": "display_data"
    },
    {
     "data": {
      "application/vnd.jupyter.widget-view+json": {
       "model_id": "35e1d698a9014a98a6e5eceaefe416b0",
       "version_major": 2,
       "version_minor": 0
      },
      "text/plain": [
       "Generating batch_47 split:   0%|          | 0/20 [00:00<?, ? examples/s]"
      ]
     },
     "metadata": {},
     "output_type": "display_data"
    },
    {
     "data": {
      "application/vnd.jupyter.widget-view+json": {
       "model_id": "c6308933d18943aeb74fc8b39338c574",
       "version_major": 2,
       "version_minor": 0
      },
      "text/plain": [
       "Generating batch_7 split:   0%|          | 0/20 [00:00<?, ? examples/s]"
      ]
     },
     "metadata": {},
     "output_type": "display_data"
    },
    {
     "data": {
      "application/vnd.jupyter.widget-view+json": {
       "model_id": "f241381976fa42b692f69145da87d62b",
       "version_major": 2,
       "version_minor": 0
      },
      "text/plain": [
       "Generating batch_48 split:   0%|          | 0/20 [00:00<?, ? examples/s]"
      ]
     },
     "metadata": {},
     "output_type": "display_data"
    },
    {
     "data": {
      "application/vnd.jupyter.widget-view+json": {
       "model_id": "d8b49fae5fe24ba1b670dcde8397e5bf",
       "version_major": 2,
       "version_minor": 0
      },
      "text/plain": [
       "Generating batch_8 split:   0%|          | 0/20 [00:00<?, ? examples/s]"
      ]
     },
     "metadata": {},
     "output_type": "display_data"
    },
    {
     "data": {
      "application/vnd.jupyter.widget-view+json": {
       "model_id": "3c125f33b1bd4ba396dad4d5d03a873a",
       "version_major": 2,
       "version_minor": 0
      },
      "text/plain": [
       "Generating batch_49 split:   0%|          | 0/20 [00:00<?, ? examples/s]"
      ]
     },
     "metadata": {},
     "output_type": "display_data"
    },
    {
     "data": {
      "application/vnd.jupyter.widget-view+json": {
       "model_id": "bb6bff78e30f43c6a508823d8c0802fe",
       "version_major": 2,
       "version_minor": 0
      },
      "text/plain": [
       "Generating batch_9 split:   0%|          | 0/20 [00:00<?, ? examples/s]"
      ]
     },
     "metadata": {},
     "output_type": "display_data"
    },
    {
     "data": {
      "application/vnd.jupyter.widget-view+json": {
       "model_id": "f745b4ff6ffd46fa89a9471c48935f8f",
       "version_major": 2,
       "version_minor": 0
      },
      "text/plain": [
       "Generating batch_50 split:   0%|          | 0/20 [00:00<?, ? examples/s]"
      ]
     },
     "metadata": {},
     "output_type": "display_data"
    },
    {
     "data": {
      "application/vnd.jupyter.widget-view+json": {
       "model_id": "a11319f64fa34141b217588a988115ca",
       "version_major": 2,
       "version_minor": 0
      },
      "text/plain": [
       "Generating batch_10 split:   0%|          | 0/20 [00:00<?, ? examples/s]"
      ]
     },
     "metadata": {},
     "output_type": "display_data"
    },
    {
     "data": {
      "application/vnd.jupyter.widget-view+json": {
       "model_id": "4cfb7db5a7974d239d40f62dbcb9811a",
       "version_major": 2,
       "version_minor": 0
      },
      "text/plain": [
       "Generating batch_51 split:   0%|          | 0/20 [00:00<?, ? examples/s]"
      ]
     },
     "metadata": {},
     "output_type": "display_data"
    },
    {
     "data": {
      "application/vnd.jupyter.widget-view+json": {
       "model_id": "45e4605a6ddf4e3ebc7e476a5a07b0bf",
       "version_major": 2,
       "version_minor": 0
      },
      "text/plain": [
       "Generating batch_11 split:   0%|          | 0/20 [00:00<?, ? examples/s]"
      ]
     },
     "metadata": {},
     "output_type": "display_data"
    },
    {
     "data": {
      "application/vnd.jupyter.widget-view+json": {
       "model_id": "056443bdb7234e669e1f8c46811999ef",
       "version_major": 2,
       "version_minor": 0
      },
      "text/plain": [
       "Generating batch_52 split:   0%|          | 0/20 [00:00<?, ? examples/s]"
      ]
     },
     "metadata": {},
     "output_type": "display_data"
    },
    {
     "data": {
      "application/vnd.jupyter.widget-view+json": {
       "model_id": "3c066907a8994f1c8091e1fc6738aa7a",
       "version_major": 2,
       "version_minor": 0
      },
      "text/plain": [
       "Generating batch_12 split:   0%|          | 0/20 [00:00<?, ? examples/s]"
      ]
     },
     "metadata": {},
     "output_type": "display_data"
    },
    {
     "data": {
      "application/vnd.jupyter.widget-view+json": {
       "model_id": "c1a9a6cc5fd74ded92500f689843faa1",
       "version_major": 2,
       "version_minor": 0
      },
      "text/plain": [
       "Generating batch_53 split:   0%|          | 0/20 [00:00<?, ? examples/s]"
      ]
     },
     "metadata": {},
     "output_type": "display_data"
    },
    {
     "data": {
      "application/vnd.jupyter.widget-view+json": {
       "model_id": "18bf084a670746329e8cbc97b0ad1ccb",
       "version_major": 2,
       "version_minor": 0
      },
      "text/plain": [
       "Generating batch_13 split:   0%|          | 0/20 [00:00<?, ? examples/s]"
      ]
     },
     "metadata": {},
     "output_type": "display_data"
    },
    {
     "data": {
      "application/vnd.jupyter.widget-view+json": {
       "model_id": "074600a2efd54d1aa21e1e58d47d659d",
       "version_major": 2,
       "version_minor": 0
      },
      "text/plain": [
       "Generating batch_54 split:   0%|          | 0/20 [00:00<?, ? examples/s]"
      ]
     },
     "metadata": {},
     "output_type": "display_data"
    },
    {
     "data": {
      "application/vnd.jupyter.widget-view+json": {
       "model_id": "39e2fc1f0f9443c68040cb7f27f6093e",
       "version_major": 2,
       "version_minor": 0
      },
      "text/plain": [
       "Generating batch_14 split:   0%|          | 0/20 [00:00<?, ? examples/s]"
      ]
     },
     "metadata": {},
     "output_type": "display_data"
    },
    {
     "data": {
      "application/vnd.jupyter.widget-view+json": {
       "model_id": "a7049b649e2d4e76ada142e2bbc86a07",
       "version_major": 2,
       "version_minor": 0
      },
      "text/plain": [
       "Generating batch_55 split:   0%|          | 0/20 [00:00<?, ? examples/s]"
      ]
     },
     "metadata": {},
     "output_type": "display_data"
    },
    {
     "data": {
      "application/vnd.jupyter.widget-view+json": {
       "model_id": "9e8c7d296fac4575951cc189ce915512",
       "version_major": 2,
       "version_minor": 0
      },
      "text/plain": [
       "Generating batch_15 split:   0%|          | 0/20 [00:00<?, ? examples/s]"
      ]
     },
     "metadata": {},
     "output_type": "display_data"
    },
    {
     "data": {
      "application/vnd.jupyter.widget-view+json": {
       "model_id": "3c5b4330315648cc8e27355c40a491fe",
       "version_major": 2,
       "version_minor": 0
      },
      "text/plain": [
       "Generating batch_56 split:   0%|          | 0/20 [00:00<?, ? examples/s]"
      ]
     },
     "metadata": {},
     "output_type": "display_data"
    },
    {
     "data": {
      "application/vnd.jupyter.widget-view+json": {
       "model_id": "aa650fadff534641a7decbed2a875f89",
       "version_major": 2,
       "version_minor": 0
      },
      "text/plain": [
       "Generating batch_16 split:   0%|          | 0/20 [00:00<?, ? examples/s]"
      ]
     },
     "metadata": {},
     "output_type": "display_data"
    },
    {
     "data": {
      "application/vnd.jupyter.widget-view+json": {
       "model_id": "540fc52d418d425881e02115f7e5c1c8",
       "version_major": 2,
       "version_minor": 0
      },
      "text/plain": [
       "Generating batch_57 split:   0%|          | 0/20 [00:00<?, ? examples/s]"
      ]
     },
     "metadata": {},
     "output_type": "display_data"
    },
    {
     "data": {
      "application/vnd.jupyter.widget-view+json": {
       "model_id": "1adade804d6e4990b545d664538199ba",
       "version_major": 2,
       "version_minor": 0
      },
      "text/plain": [
       "Generating batch_17 split:   0%|          | 0/20 [00:00<?, ? examples/s]"
      ]
     },
     "metadata": {},
     "output_type": "display_data"
    },
    {
     "data": {
      "application/vnd.jupyter.widget-view+json": {
       "model_id": "91e7b025d39e45a8a510dcf88c2b84b6",
       "version_major": 2,
       "version_minor": 0
      },
      "text/plain": [
       "Generating batch_58 split:   0%|          | 0/20 [00:00<?, ? examples/s]"
      ]
     },
     "metadata": {},
     "output_type": "display_data"
    },
    {
     "data": {
      "application/vnd.jupyter.widget-view+json": {
       "model_id": "0d63d867bcf74f1fa8f7c1c351081758",
       "version_major": 2,
       "version_minor": 0
      },
      "text/plain": [
       "Generating batch_18 split:   0%|          | 0/20 [00:00<?, ? examples/s]"
      ]
     },
     "metadata": {},
     "output_type": "display_data"
    },
    {
     "data": {
      "application/vnd.jupyter.widget-view+json": {
       "model_id": "d85e6315d21d4f04a20010de0c5ec174",
       "version_major": 2,
       "version_minor": 0
      },
      "text/plain": [
       "Generating batch_59 split:   0%|          | 0/20 [00:00<?, ? examples/s]"
      ]
     },
     "metadata": {},
     "output_type": "display_data"
    },
    {
     "data": {
      "application/vnd.jupyter.widget-view+json": {
       "model_id": "d7fcceb1468a49598ac8581f75314c16",
       "version_major": 2,
       "version_minor": 0
      },
      "text/plain": [
       "Generating batch_19 split:   0%|          | 0/20 [00:00<?, ? examples/s]"
      ]
     },
     "metadata": {},
     "output_type": "display_data"
    },
    {
     "data": {
      "application/vnd.jupyter.widget-view+json": {
       "model_id": "bebefb4159ab408bb3d30021de9b75dc",
       "version_major": 2,
       "version_minor": 0
      },
      "text/plain": [
       "Generating batch_60 split:   0%|          | 0/20 [00:00<?, ? examples/s]"
      ]
     },
     "metadata": {},
     "output_type": "display_data"
    },
    {
     "data": {
      "application/vnd.jupyter.widget-view+json": {
       "model_id": "bcf4f7117f0b403ebd5a6e1ecb3f035f",
       "version_major": 2,
       "version_minor": 0
      },
      "text/plain": [
       "Generating batch_20 split:   0%|          | 0/20 [00:00<?, ? examples/s]"
      ]
     },
     "metadata": {},
     "output_type": "display_data"
    },
    {
     "data": {
      "application/vnd.jupyter.widget-view+json": {
       "model_id": "aaaf8fe5d88043c69c2fc4f1cb5dd5d3",
       "version_major": 2,
       "version_minor": 0
      },
      "text/plain": [
       "Generating batch_61 split:   0%|          | 0/20 [00:00<?, ? examples/s]"
      ]
     },
     "metadata": {},
     "output_type": "display_data"
    },
    {
     "data": {
      "application/vnd.jupyter.widget-view+json": {
       "model_id": "41f4f3ac6b9e45c5922c24a85546f2dc",
       "version_major": 2,
       "version_minor": 0
      },
      "text/plain": [
       "Generating batch_21 split:   0%|          | 0/20 [00:00<?, ? examples/s]"
      ]
     },
     "metadata": {},
     "output_type": "display_data"
    },
    {
     "data": {
      "application/vnd.jupyter.widget-view+json": {
       "model_id": "46cd1ad867d3420789f454c16b00062c",
       "version_major": 2,
       "version_minor": 0
      },
      "text/plain": [
       "Generating batch_62 split:   0%|          | 0/20 [00:00<?, ? examples/s]"
      ]
     },
     "metadata": {},
     "output_type": "display_data"
    },
    {
     "data": {
      "application/vnd.jupyter.widget-view+json": {
       "model_id": "826120f11c724e8aa41a256fc5d4dffb",
       "version_major": 2,
       "version_minor": 0
      },
      "text/plain": [
       "Generating batch_63 split:   0%|          | 0/20 [00:00<?, ? examples/s]"
      ]
     },
     "metadata": {},
     "output_type": "display_data"
    },
    {
     "data": {
      "application/vnd.jupyter.widget-view+json": {
       "model_id": "22add311176645bbb5a4657b0aaa5fb0",
       "version_major": 2,
       "version_minor": 0
      },
      "text/plain": [
       "Generating batch_22 split:   0%|          | 0/20 [00:00<?, ? examples/s]"
      ]
     },
     "metadata": {},
     "output_type": "display_data"
    },
    {
     "data": {
      "application/vnd.jupyter.widget-view+json": {
       "model_id": "3bea14691e6547029f88378a8e657b58",
       "version_major": 2,
       "version_minor": 0
      },
      "text/plain": [
       "Generating batch_64 split:   0%|          | 0/20 [00:00<?, ? examples/s]"
      ]
     },
     "metadata": {},
     "output_type": "display_data"
    },
    {
     "data": {
      "application/vnd.jupyter.widget-view+json": {
       "model_id": "c5b47840bc9248128085395c46cd5d0c",
       "version_major": 2,
       "version_minor": 0
      },
      "text/plain": [
       "Generating batch_23 split:   0%|          | 0/20 [00:00<?, ? examples/s]"
      ]
     },
     "metadata": {},
     "output_type": "display_data"
    },
    {
     "data": {
      "application/vnd.jupyter.widget-view+json": {
       "model_id": "bb738abe7738448ea87b4e376ce76596",
       "version_major": 2,
       "version_minor": 0
      },
      "text/plain": [
       "Generating batch_65 split:   0%|          | 0/20 [00:00<?, ? examples/s]"
      ]
     },
     "metadata": {},
     "output_type": "display_data"
    },
    {
     "data": {
      "application/vnd.jupyter.widget-view+json": {
       "model_id": "852d5042013e4d419c7b6f85e41bdefd",
       "version_major": 2,
       "version_minor": 0
      },
      "text/plain": [
       "Generating batch_24 split:   0%|          | 0/20 [00:00<?, ? examples/s]"
      ]
     },
     "metadata": {},
     "output_type": "display_data"
    },
    {
     "data": {
      "application/vnd.jupyter.widget-view+json": {
       "model_id": "60f4cfcba8514a378e96e2995d54d908",
       "version_major": 2,
       "version_minor": 0
      },
      "text/plain": [
       "Generating batch_66 split:   0%|          | 0/20 [00:00<?, ? examples/s]"
      ]
     },
     "metadata": {},
     "output_type": "display_data"
    },
    {
     "data": {
      "application/vnd.jupyter.widget-view+json": {
       "model_id": "5b2edb3c6c6d4223b5532a89c691931d",
       "version_major": 2,
       "version_minor": 0
      },
      "text/plain": [
       "Generating batch_25 split:   0%|          | 0/20 [00:00<?, ? examples/s]"
      ]
     },
     "metadata": {},
     "output_type": "display_data"
    },
    {
     "data": {
      "application/vnd.jupyter.widget-view+json": {
       "model_id": "ce21df2a62e741cca866d948d6f21244",
       "version_major": 2,
       "version_minor": 0
      },
      "text/plain": [
       "Generating batch_67 split:   0%|          | 0/20 [00:00<?, ? examples/s]"
      ]
     },
     "metadata": {},
     "output_type": "display_data"
    },
    {
     "data": {
      "application/vnd.jupyter.widget-view+json": {
       "model_id": "ef59d90f13b148169a199718da0ca07d",
       "version_major": 2,
       "version_minor": 0
      },
      "text/plain": [
       "Generating batch_26 split:   0%|          | 0/20 [00:00<?, ? examples/s]"
      ]
     },
     "metadata": {},
     "output_type": "display_data"
    },
    {
     "data": {
      "application/vnd.jupyter.widget-view+json": {
       "model_id": "9fd1b6e3087d42e083b161ca0b74fb82",
       "version_major": 2,
       "version_minor": 0
      },
      "text/plain": [
       "Generating batch_68 split:   0%|          | 0/20 [00:00<?, ? examples/s]"
      ]
     },
     "metadata": {},
     "output_type": "display_data"
    },
    {
     "data": {
      "application/vnd.jupyter.widget-view+json": {
       "model_id": "bdb54ee4ab734f4983214066bd62d74c",
       "version_major": 2,
       "version_minor": 0
      },
      "text/plain": [
       "Generating batch_27 split:   0%|          | 0/20 [00:00<?, ? examples/s]"
      ]
     },
     "metadata": {},
     "output_type": "display_data"
    },
    {
     "data": {
      "application/vnd.jupyter.widget-view+json": {
       "model_id": "04ff97a37bfe40d182e9c557957aa839",
       "version_major": 2,
       "version_minor": 0
      },
      "text/plain": [
       "Generating batch_69 split:   0%|          | 0/20 [00:00<?, ? examples/s]"
      ]
     },
     "metadata": {},
     "output_type": "display_data"
    },
    {
     "data": {
      "application/vnd.jupyter.widget-view+json": {
       "model_id": "d0c5e4381d53471f8980fc5239cb2f50",
       "version_major": 2,
       "version_minor": 0
      },
      "text/plain": [
       "Generating batch_28 split:   0%|          | 0/20 [00:00<?, ? examples/s]"
      ]
     },
     "metadata": {},
     "output_type": "display_data"
    },
    {
     "data": {
      "application/vnd.jupyter.widget-view+json": {
       "model_id": "2deb061914844bab95ccd45d6a9bc993",
       "version_major": 2,
       "version_minor": 0
      },
      "text/plain": [
       "Generating batch_70 split:   0%|          | 0/20 [00:00<?, ? examples/s]"
      ]
     },
     "metadata": {},
     "output_type": "display_data"
    },
    {
     "data": {
      "application/vnd.jupyter.widget-view+json": {
       "model_id": "78f8aa725cf24401b3bec3f82a005291",
       "version_major": 2,
       "version_minor": 0
      },
      "text/plain": [
       "Generating batch_29 split:   0%|          | 0/20 [00:00<?, ? examples/s]"
      ]
     },
     "metadata": {},
     "output_type": "display_data"
    },
    {
     "data": {
      "application/vnd.jupyter.widget-view+json": {
       "model_id": "09fcbe97393e43e08582e630d4d66893",
       "version_major": 2,
       "version_minor": 0
      },
      "text/plain": [
       "Generating batch_71 split:   0%|          | 0/20 [00:00<?, ? examples/s]"
      ]
     },
     "metadata": {},
     "output_type": "display_data"
    },
    {
     "data": {
      "application/vnd.jupyter.widget-view+json": {
       "model_id": "c54711344f9349b7adaeeb1674832b47",
       "version_major": 2,
       "version_minor": 0
      },
      "text/plain": [
       "Generating batch_30 split:   0%|          | 0/20 [00:00<?, ? examples/s]"
      ]
     },
     "metadata": {},
     "output_type": "display_data"
    },
    {
     "data": {
      "application/vnd.jupyter.widget-view+json": {
       "model_id": "6c6ac541621f4e4493916c5d2e8d7d68",
       "version_major": 2,
       "version_minor": 0
      },
      "text/plain": [
       "Generating batch_72 split:   0%|          | 0/20 [00:00<?, ? examples/s]"
      ]
     },
     "metadata": {},
     "output_type": "display_data"
    },
    {
     "data": {
      "application/vnd.jupyter.widget-view+json": {
       "model_id": "8c3dba4e4b80441bb403f0525f67be2f",
       "version_major": 2,
       "version_minor": 0
      },
      "text/plain": [
       "Generating batch_31 split:   0%|          | 0/20 [00:00<?, ? examples/s]"
      ]
     },
     "metadata": {},
     "output_type": "display_data"
    },
    {
     "data": {
      "application/vnd.jupyter.widget-view+json": {
       "model_id": "f75d548dd6f745c8bcf2e12ae04ffdca",
       "version_major": 2,
       "version_minor": 0
      },
      "text/plain": [
       "Generating batch_73 split:   0%|          | 0/20 [00:00<?, ? examples/s]"
      ]
     },
     "metadata": {},
     "output_type": "display_data"
    },
    {
     "data": {
      "application/vnd.jupyter.widget-view+json": {
       "model_id": "a5eb909a19054abe8b654d5f8e2893c2",
       "version_major": 2,
       "version_minor": 0
      },
      "text/plain": [
       "Generating batch_32 split:   0%|          | 0/20 [00:00<?, ? examples/s]"
      ]
     },
     "metadata": {},
     "output_type": "display_data"
    },
    {
     "data": {
      "application/vnd.jupyter.widget-view+json": {
       "model_id": "814fc3e59d3b4fe59f25051c52150b3f",
       "version_major": 2,
       "version_minor": 0
      },
      "text/plain": [
       "Generating batch_74 split:   0%|          | 0/20 [00:00<?, ? examples/s]"
      ]
     },
     "metadata": {},
     "output_type": "display_data"
    },
    {
     "data": {
      "application/vnd.jupyter.widget-view+json": {
       "model_id": "d272b81bc5af45858c57066ecb148492",
       "version_major": 2,
       "version_minor": 0
      },
      "text/plain": [
       "Generating batch_33 split:   0%|          | 0/20 [00:00<?, ? examples/s]"
      ]
     },
     "metadata": {},
     "output_type": "display_data"
    },
    {
     "data": {
      "application/vnd.jupyter.widget-view+json": {
       "model_id": "62b547fc4395448bbdb8e0860d2d6ede",
       "version_major": 2,
       "version_minor": 0
      },
      "text/plain": [
       "Generating batch_75 split:   0%|          | 0/20 [00:00<?, ? examples/s]"
      ]
     },
     "metadata": {},
     "output_type": "display_data"
    },
    {
     "data": {
      "application/vnd.jupyter.widget-view+json": {
       "model_id": "7fd7e0c5d4514301bf46711d8473f796",
       "version_major": 2,
       "version_minor": 0
      },
      "text/plain": [
       "Generating batch_34 split:   0%|          | 0/20 [00:00<?, ? examples/s]"
      ]
     },
     "metadata": {},
     "output_type": "display_data"
    },
    {
     "data": {
      "application/vnd.jupyter.widget-view+json": {
       "model_id": "114f00cae9ca4a80a63aa70be8304c59",
       "version_major": 2,
       "version_minor": 0
      },
      "text/plain": [
       "Generating batch_76 split:   0%|          | 0/20 [00:00<?, ? examples/s]"
      ]
     },
     "metadata": {},
     "output_type": "display_data"
    },
    {
     "data": {
      "application/vnd.jupyter.widget-view+json": {
       "model_id": "05e6dd0c5f93438a94fdf5c055c422fc",
       "version_major": 2,
       "version_minor": 0
      },
      "text/plain": [
       "Generating batch_35 split:   0%|          | 0/20 [00:00<?, ? examples/s]"
      ]
     },
     "metadata": {},
     "output_type": "display_data"
    },
    {
     "data": {
      "application/vnd.jupyter.widget-view+json": {
       "model_id": "624ff329fd2e42ebb0ce4ea26a276a9b",
       "version_major": 2,
       "version_minor": 0
      },
      "text/plain": [
       "Generating batch_77 split:   0%|          | 0/20 [00:00<?, ? examples/s]"
      ]
     },
     "metadata": {},
     "output_type": "display_data"
    },
    {
     "data": {
      "application/vnd.jupyter.widget-view+json": {
       "model_id": "4c827ed5e5dc470282f537ad4ebc42d2",
       "version_major": 2,
       "version_minor": 0
      },
      "text/plain": [
       "Generating batch_36 split:   0%|          | 0/20 [00:00<?, ? examples/s]"
      ]
     },
     "metadata": {},
     "output_type": "display_data"
    },
    {
     "data": {
      "application/vnd.jupyter.widget-view+json": {
       "model_id": "2c78222dd5084c5eadd4ec5011406031",
       "version_major": 2,
       "version_minor": 0
      },
      "text/plain": [
       "Generating batch_78 split:   0%|          | 0/20 [00:00<?, ? examples/s]"
      ]
     },
     "metadata": {},
     "output_type": "display_data"
    },
    {
     "data": {
      "application/vnd.jupyter.widget-view+json": {
       "model_id": "99e8c90df9254ac282002873090e9e1d",
       "version_major": 2,
       "version_minor": 0
      },
      "text/plain": [
       "Generating batch_37 split:   0%|          | 0/20 [00:00<?, ? examples/s]"
      ]
     },
     "metadata": {},
     "output_type": "display_data"
    },
    {
     "data": {
      "application/vnd.jupyter.widget-view+json": {
       "model_id": "ca4696d9fbd340b79a9bc916d4408147",
       "version_major": 2,
       "version_minor": 0
      },
      "text/plain": [
       "Generating batch_79 split:   0%|          | 0/20 [00:00<?, ? examples/s]"
      ]
     },
     "metadata": {},
     "output_type": "display_data"
    },
    {
     "data": {
      "application/vnd.jupyter.widget-view+json": {
       "model_id": "d3b4bc5e08924bf09a290f4ae4b7603a",
       "version_major": 2,
       "version_minor": 0
      },
      "text/plain": [
       "Generating batch_38 split:   0%|          | 0/20 [00:00<?, ? examples/s]"
      ]
     },
     "metadata": {},
     "output_type": "display_data"
    },
    {
     "data": {
      "application/vnd.jupyter.widget-view+json": {
       "model_id": "99cbeaad01c54aada658670fce5aa01e",
       "version_major": 2,
       "version_minor": 0
      },
      "text/plain": [
       "Generating batch_80 split:   0%|          | 0/20 [00:00<?, ? examples/s]"
      ]
     },
     "metadata": {},
     "output_type": "display_data"
    },
    {
     "data": {
      "application/vnd.jupyter.widget-view+json": {
       "model_id": "d4f15cf85b9a437ab9371a831b6bc04d",
       "version_major": 2,
       "version_minor": 0
      },
      "text/plain": [
       "Generating batch_39 split:   0%|          | 0/20 [00:00<?, ? examples/s]"
      ]
     },
     "metadata": {},
     "output_type": "display_data"
    },
    {
     "data": {
      "application/vnd.jupyter.widget-view+json": {
       "model_id": "42631dd0a04e48ca991a8c5d3fae5452",
       "version_major": 2,
       "version_minor": 0
      },
      "text/plain": [
       "Generating batch_81 split:   0%|          | 0/20 [00:00<?, ? examples/s]"
      ]
     },
     "metadata": {},
     "output_type": "display_data"
    },
    {
     "data": {
      "application/vnd.jupyter.widget-view+json": {
       "model_id": "4e7622023dc046f2ab4fa495ecf8c49c",
       "version_major": 2,
       "version_minor": 0
      },
      "text/plain": [
       "Generating batch_40 split:   0%|          | 0/20 [00:00<?, ? examples/s]"
      ]
     },
     "metadata": {},
     "output_type": "display_data"
    },
    {
     "data": {
      "application/vnd.jupyter.widget-view+json": {
       "model_id": "d8601804b13143a6a8bfa008fce8cdab",
       "version_major": 2,
       "version_minor": 0
      },
      "text/plain": [
       "Generating batch_82 split:   0%|          | 0/20 [00:00<?, ? examples/s]"
      ]
     },
     "metadata": {},
     "output_type": "display_data"
    },
    {
     "data": {
      "application/vnd.jupyter.widget-view+json": {
       "model_id": "adfb8dabc5bd4eba801fb71945bf843d",
       "version_major": 2,
       "version_minor": 0
      },
      "text/plain": [
       "Generating batch_83 split:   0%|          | 0/20 [00:00<?, ? examples/s]"
      ]
     },
     "metadata": {},
     "output_type": "display_data"
    },
    {
     "data": {
      "application/vnd.jupyter.widget-view+json": {
       "model_id": "458ffa8c35754f889831bec67955dc23",
       "version_major": 2,
       "version_minor": 0
      },
      "text/plain": [
       "Generating batch_84 split:   0%|          | 0/20 [00:00<?, ? examples/s]"
      ]
     },
     "metadata": {},
     "output_type": "display_data"
    },
    {
     "data": {
      "application/vnd.jupyter.widget-view+json": {
       "model_id": "42936487d9df4d8ea0572a1f856a33c2",
       "version_major": 2,
       "version_minor": 0
      },
      "text/plain": [
       "Generating batch_85 split:   0%|          | 0/20 [00:00<?, ? examples/s]"
      ]
     },
     "metadata": {},
     "output_type": "display_data"
    },
    {
     "data": {
      "application/vnd.jupyter.widget-view+json": {
       "model_id": "b67ddcc0e8604c74b39c0fca3557c7a8",
       "version_major": 2,
       "version_minor": 0
      },
      "text/plain": [
       "Generating batch_86 split:   0%|          | 0/20 [00:00<?, ? examples/s]"
      ]
     },
     "metadata": {},
     "output_type": "display_data"
    },
    {
     "data": {
      "text/plain": [
       "Dataset({\n",
       "    features: ['post_id', 'title', 'top_comments', 'images', 'caption_gemma', 'caption_qwen'],\n",
       "    num_rows: 1740\n",
       "})"
      ]
     },
     "execution_count": 2,
     "metadata": {},
     "output_type": "execute_result"
    }
   ],
   "source": [
    "batched_dataset = load_dataset(\"SigLIP-forge/reddit-malelivingspace-captioned\")\n",
    "all_batches = [ds for name, ds in batched_dataset.items() if name.startswith(\"batch\")]\n",
    "dataset = concatenate_datasets(all_batches)\n",
    "dataset"
   ]
  },
  {
   "cell_type": "code",
   "execution_count": null,
   "id": "e51d9cb5",
   "metadata": {},
   "outputs": [
    {
     "data": {
      "application/vnd.jupyter.widget-view+json": {
       "model_id": "5e1e68bda12c4486b604fbae5bebf72c",
       "version_major": 2,
       "version_minor": 0
      },
      "text/plain": [
       "config.json:   0%|          | 0.00/4.19k [00:00<?, ?B/s]"
      ]
     },
     "metadata": {},
     "output_type": "display_data"
    },
    {
     "data": {
      "application/vnd.jupyter.widget-view+json": {
       "model_id": "3d0e8c680e054f45bf0f371974b9c670",
       "version_major": 2,
       "version_minor": 0
      },
      "text/plain": [
       "pytorch_model.bin:   0%|          | 0.00/605M [00:00<?, ?B/s]"
      ]
     },
     "metadata": {},
     "output_type": "display_data"
    },
    {
     "data": {
      "application/vnd.jupyter.widget-view+json": {
       "model_id": "be6771de8317444da6b8d59c39ffbda7",
       "version_major": 2,
       "version_minor": 0
      },
      "text/plain": [
       "model.safetensors:   0%|          | 0.00/605M [00:00<?, ?B/s]"
      ]
     },
     "metadata": {},
     "output_type": "display_data"
    },
    {
     "name": "stderr",
     "output_type": "stream",
     "text": [
      "Using a slow image processor as `use_fast` is unset and a slow processor was saved with this model. `use_fast=True` will be the default behavior in v4.52, even if the model was saved with a slow processor. This will result in minor differences in outputs. You'll still be able to use a slow processor with `use_fast=False`.\n"
     ]
    },
    {
     "data": {
      "application/vnd.jupyter.widget-view+json": {
       "model_id": "1224166df34d441bb1fd61f4d561f525",
       "version_major": 2,
       "version_minor": 0
      },
      "text/plain": [
       "preprocessor_config.json:   0%|          | 0.00/316 [00:00<?, ?B/s]"
      ]
     },
     "metadata": {},
     "output_type": "display_data"
    },
    {
     "data": {
      "application/vnd.jupyter.widget-view+json": {
       "model_id": "1fd30a2b8d1449ac81836cd44084b784",
       "version_major": 2,
       "version_minor": 0
      },
      "text/plain": [
       "tokenizer_config.json:   0%|          | 0.00/592 [00:00<?, ?B/s]"
      ]
     },
     "metadata": {},
     "output_type": "display_data"
    },
    {
     "data": {
      "application/vnd.jupyter.widget-view+json": {
       "model_id": "297f1d9779374c4280fb2d95726f33d4",
       "version_major": 2,
       "version_minor": 0
      },
      "text/plain": [
       "vocab.json:   0%|          | 0.00/862k [00:00<?, ?B/s]"
      ]
     },
     "metadata": {},
     "output_type": "display_data"
    },
    {
     "data": {
      "application/vnd.jupyter.widget-view+json": {
       "model_id": "1ff7124f62874bf0b326e50c914fb1c1",
       "version_major": 2,
       "version_minor": 0
      },
      "text/plain": [
       "merges.txt:   0%|          | 0.00/525k [00:00<?, ?B/s]"
      ]
     },
     "metadata": {},
     "output_type": "display_data"
    },
    {
     "data": {
      "application/vnd.jupyter.widget-view+json": {
       "model_id": "7ca5a13799a64478b5e1d09d7a603234",
       "version_major": 2,
       "version_minor": 0
      },
      "text/plain": [
       "tokenizer.json:   0%|          | 0.00/2.22M [00:00<?, ?B/s]"
      ]
     },
     "metadata": {},
     "output_type": "display_data"
    },
    {
     "data": {
      "application/vnd.jupyter.widget-view+json": {
       "model_id": "fc3a1935688f46489b2095dc77c448c5",
       "version_major": 2,
       "version_minor": 0
      },
      "text/plain": [
       "special_tokens_map.json:   0%|          | 0.00/389 [00:00<?, ?B/s]"
      ]
     },
     "metadata": {},
     "output_type": "display_data"
    },
    {
     "data": {
      "application/vnd.jupyter.widget-view+json": {
       "model_id": "9b2a04faeeb24b9caeff74a15394a146",
       "version_major": 2,
       "version_minor": 0
      },
      "text/plain": [
       "config.json:   0%|          | 0.00/660 [00:00<?, ?B/s]"
      ]
     },
     "metadata": {},
     "output_type": "display_data"
    },
    {
     "data": {
      "application/vnd.jupyter.widget-view+json": {
       "model_id": "ad2484452c804851baa00c8db08f8351",
       "version_major": 2,
       "version_minor": 0
      },
      "text/plain": [
       "model.safetensors:   0%|          | 0.00/3.09G [00:00<?, ?B/s]"
      ]
     },
     "metadata": {},
     "output_type": "display_data"
    },
    {
     "name": "stderr",
     "output_type": "stream",
     "text": [
      "Sliding Window Attention is enabled but not implemented for `sdpa`; unexpected results may be encountered.\n"
     ]
    },
    {
     "data": {
      "application/vnd.jupyter.widget-view+json": {
       "model_id": "7f0118417adc44ae82e0ecc1e6ffa8ca",
       "version_major": 2,
       "version_minor": 0
      },
      "text/plain": [
       "generation_config.json:   0%|          | 0.00/242 [00:00<?, ?B/s]"
      ]
     },
     "metadata": {},
     "output_type": "display_data"
    },
    {
     "data": {
      "application/vnd.jupyter.widget-view+json": {
       "model_id": "0e9d3b0d491b4817b8b17720b3584f98",
       "version_major": 2,
       "version_minor": 0
      },
      "text/plain": [
       "tokenizer_config.json:   0%|          | 0.00/7.30k [00:00<?, ?B/s]"
      ]
     },
     "metadata": {},
     "output_type": "display_data"
    },
    {
     "data": {
      "application/vnd.jupyter.widget-view+json": {
       "model_id": "741820d8fd584f1aba5cef56fe154943",
       "version_major": 2,
       "version_minor": 0
      },
      "text/plain": [
       "vocab.json:   0%|          | 0.00/2.78M [00:00<?, ?B/s]"
      ]
     },
     "metadata": {},
     "output_type": "display_data"
    },
    {
     "data": {
      "application/vnd.jupyter.widget-view+json": {
       "model_id": "b86133964688492ba0910b8f3a35a9a6",
       "version_major": 2,
       "version_minor": 0
      },
      "text/plain": [
       "merges.txt:   0%|          | 0.00/1.67M [00:00<?, ?B/s]"
      ]
     },
     "metadata": {},
     "output_type": "display_data"
    },
    {
     "data": {
      "application/vnd.jupyter.widget-view+json": {
       "model_id": "beed37c897b845b18ebd823b2bc248f8",
       "version_major": 2,
       "version_minor": 0
      },
      "text/plain": [
       "tokenizer.json:   0%|          | 0.00/7.03M [00:00<?, ?B/s]"
      ]
     },
     "metadata": {},
     "output_type": "display_data"
    }
   ],
   "source": [
    "device = \"cuda\" if torch.cuda.is_available() else \"cpu\"\n",
    "\n",
    "# --- Model + Tokenizer Names ---\n",
    "clip_name = \"openai/clip-vit-base-patch32\"\n",
    "llm_name = \"Qwen/Qwen2.5-1.5B-Instruct\"\n",
    "\n",
    "# --- Hyperparams ---\n",
    "batch_size = 20\n",
    "epochs = 5\n",
    "lr = 1e-4\n",
    "max_length = 100\n",
    "projected_seq_len = 1\n",
    "\n",
    "# --- Load Models ---\n",
    "clip_model = CLIPModel.from_pretrained(clip_name, device_map=\"auto\").eval().to(device)\n",
    "clip_processor = CLIPProcessor.from_pretrained(clip_name)\n",
    "\n",
    "llm = AutoModelForCausalLM.from_pretrained(llm_name, device_map=\"auto\").eval().to(device)\n",
    "\n",
    "tokenizer = AutoTokenizer.from_pretrained(llm_name)\n",
    "tokenizer.pad_token = tokenizer.eos_token\n",
    "\n",
    "# --- Projector ---\n",
    "class ClipProjector(nn.Module):\n",
    "    def __init__(self, in_dim=512, out_dim=768, seq_len=1):\n",
    "        super().__init__()\n",
    "        self.linear = nn.Linear(in_dim, out_dim * seq_len)\n",
    "        self.seq_len = seq_len\n",
    "        self.out_dim = out_dim\n",
    "\n",
    "    def forward(self, x):\n",
    "        x = self.linear(x)\n",
    "        return x.view(-1, self.seq_len, self.out_dim)\n",
    "\n",
    "projector = ClipProjector(in_dim=512, out_dim=llm.config.hidden_size, seq_len=projected_seq_len).to(device)\n",
    "optimizer = torch.optim.AdamW(projector.parameters(), lr=lr)\n",
    "loss_fn = nn.CrossEntropyLoss(ignore_index=tokenizer.pad_token_id)\n",
    "\n",
    "# --- Image transform (not strictly needed with CLIPProcessor, but you can control it) ---\n",
    "preprocess = transforms.Compose([\n",
    "    transforms.Resize((224, 224)),\n",
    "    transforms.ToTensor()\n",
    "])"
   ]
  },
  {
   "cell_type": "code",
   "execution_count": 4,
   "id": "663ba489",
   "metadata": {},
   "outputs": [],
   "source": [
    "system_prompt = \"You are an expert interior designer assistant. Your task is to suggest suitable decor based on the inner design of a room described in a caption. The caption may include details about the room's layout, furniture, lighting, materials, colors, and style. Based on this information, provide thoughtful and visually harmonious decor suggestions that enhance the room's existing features. Be creative but practical, ensuring your suggestions match the overall theme and feel of the space.\"\n",
    "\n",
    "user_prompt = \"Here is a description of a room:\\n{caption}\\nWhat decor would you suggest to enhance this space?\""
   ]
  },
  {
   "cell_type": "code",
   "execution_count": 5,
   "id": "3e3e5647",
   "metadata": {},
   "outputs": [
    {
     "name": "stdout",
     "output_type": "stream",
     "text": [
      "[caption_gemma] Epoch 1: Loss = 4041.5730\n",
      "[caption_gemma] Epoch 2: Loss = 2976.0215\n",
      "[caption_gemma] Epoch 3: Loss = 2241.7596\n",
      "[caption_gemma] Epoch 4: Loss = 1615.0352\n",
      "[caption_gemma] Epoch 5: Loss = 1242.0345\n",
      "[caption_qwen] Epoch 1: Loss = 962.5873\n",
      "[caption_qwen] Epoch 2: Loss = 759.1415\n",
      "[caption_qwen] Epoch 3: Loss = 639.8669\n",
      "[caption_qwen] Epoch 4: Loss = 576.5416\n",
      "[caption_qwen] Epoch 5: Loss = 487.3684\n"
     ]
    }
   ],
   "source": [
    "def compute_clip_embedding(images):\n",
    "    pil_images = [img.convert(\"RGB\") for img in images]\n",
    "    inputs = clip_processor(images=pil_images, return_tensors=\"pt\", padding=True).to(device)\n",
    "    with torch.no_grad():\n",
    "        img_feats = clip_model.get_image_features(**inputs)  # [n, 512]\n",
    "    return img_feats.mean(dim=0)  # [512]\n",
    "\n",
    "# --- Training function ---\n",
    "def train_on_caption(caption_key):\n",
    "    projector.train()\n",
    "    for epoch in range(epochs):\n",
    "        total_loss = 0\n",
    "        for example in dataset.shuffle():  # adjust range as needed\n",
    "            image_embed = compute_clip_embedding(example[\"images\"]).unsqueeze(0)  # [1, 512]\n",
    "            projected = projector(image_embed)  # [1, seq_len, hidden]\n",
    "            \n",
    "            caption = example[caption_key]\n",
    "            messages = [\n",
    "                {\n",
    "                    \"role\": \"system\", \n",
    "                    \"content\": system_prompt\n",
    "                }, \n",
    "                {\n",
    "                    \"role\": \"user\",\n",
    "                    \"content\": user_prompt.format(caption=caption)\n",
    "                }\n",
    "            ]\n",
    "            prompt = tokenizer.apply_chat_template(messages, tokenize=False)\n",
    "\n",
    "            cap_inputs = tokenizer(prompt, return_tensors=\"pt\", padding=True, truncation=True, max_length=max_length).to(device)\n",
    "            cap_input_ids = cap_inputs.input_ids\n",
    "            cap_labels = cap_input_ids.clone()\n",
    "\n",
    "            with torch.no_grad():\n",
    "                cap_embeds = llm.model.embed_tokens(cap_input_ids)\n",
    "\n",
    "            full_input = torch.cat([projected, cap_embeds], dim=1)\n",
    "            full_labels = torch.cat([\n",
    "                torch.full((1, projected_seq_len), -100).to(device),\n",
    "                cap_labels\n",
    "            ], dim=1)\n",
    "\n",
    "            outputs = llm(inputs_embeds=full_input, labels=full_labels)\n",
    "            loss = outputs.loss\n",
    "            loss.backward()\n",
    "            optimizer.step()\n",
    "            optimizer.zero_grad()\n",
    "            total_loss += loss.item()\n",
    "\n",
    "        print(f\"[{caption_key}] Epoch {epoch + 1}: Loss = {total_loss:.4f}\")\n",
    "\n",
    "train_on_caption(\"caption_gemma\")\n",
    "train_on_caption(\"caption_qwen\")"
   ]
  },
  {
   "cell_type": "code",
   "execution_count": null,
   "id": "5985f43e",
   "metadata": {},
   "outputs": [],
   "source": [
    "import json\n",
    "import torch\n",
    "import os\n",
    "\n",
    "os.makedirs(\"../models/projector\", exist_ok=True)\n",
    "torch.save(projector.state_dict(), \"../models/projector/pytorch_model.bin\")\n",
    "\n",
    "config = {\n",
    "  \"in_dim\": 512,\n",
    "  \"out_dim\": llm.config.hidden_size,\n",
    "  \"seq_len\": projected_seq_len\n",
    "}\n",
    "with open(\"../models/projector/config.json\", \"w\") as f:\n",
    "  json.dump(config, f)"
   ]
  },
  {
   "cell_type": "code",
   "execution_count": null,
   "id": "f88f308e",
   "metadata": {},
   "outputs": [
    {
     "data": {
      "application/vnd.jupyter.widget-view+json": {
       "model_id": "4058b69c8beb4c17a8e1aa0780dfd298",
       "version_major": 2,
       "version_minor": 0
      },
      "text/plain": [
       "pytorch_model.bin:   0%|          | 0.00/3.15M [00:00<?, ?B/s]"
      ]
     },
     "metadata": {},
     "output_type": "display_data"
    },
    {
     "data": {
      "text/plain": [
       "CommitInfo(commit_url='https://huggingface.co/sameddallaa/projector-clip-llm/commit/02b9315435f120e263276881f1a2d132011aa982', commit_message='Upload folder using huggingface_hub', commit_description='', oid='02b9315435f120e263276881f1a2d132011aa982', pr_url=None, repo_url=RepoUrl('https://huggingface.co/sameddallaa/projector-clip-llm', endpoint='https://huggingface.co', repo_type='model', repo_id='sameddallaa/projector-clip-llm'), pr_revision=None, pr_num=None)"
      ]
     },
     "execution_count": 32,
     "metadata": {},
     "output_type": "execute_result"
    }
   ],
   "source": [
    "upload_folder(\n",
    "    folder_path=\"../models/projector\",\n",
    "    repo_id=\"sameddallaa/projector-clip-llm\",\n",
    "    path_in_repo=\"projector\"\n",
    ")"
   ]
  }
 ],
 "metadata": {
  "kernelspec": {
   "display_name": "Python 3 (ipykernel)",
   "language": "python",
   "name": "python3"
  },
  "language_info": {
   "codemirror_mode": {
    "name": "ipython",
    "version": 3
   },
   "file_extension": ".py",
   "mimetype": "text/x-python",
   "name": "python",
   "nbconvert_exporter": "python",
   "pygments_lexer": "ipython3",
   "version": "3.11.11"
  }
 },
 "nbformat": 4,
 "nbformat_minor": 5
}
